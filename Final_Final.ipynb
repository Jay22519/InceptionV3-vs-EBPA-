{
 "cells": [
  {
   "cell_type": "markdown",
   "metadata": {},
   "source": [
    "### Importing Library "
   ]
  },
  {
   "cell_type": "code",
   "execution_count": 1,
   "metadata": {},
   "outputs": [],
   "source": [
    "import numpy as np \n",
    "import pandas as pd "
   ]
  },
  {
   "cell_type": "code",
   "execution_count": 2,
   "metadata": {},
   "outputs": [],
   "source": [
    "import matplotlib.pyplot as plt \n",
    "%matplotlib inline "
   ]
  },
  {
   "cell_type": "code",
   "execution_count": 3,
   "metadata": {},
   "outputs": [],
   "source": [
    "import math \n",
    "from random import random "
   ]
  },
  {
   "cell_type": "code",
   "execution_count": 4,
   "metadata": {},
   "outputs": [],
   "source": [
    "from PIL import Image "
   ]
  },
  {
   "cell_type": "code",
   "execution_count": 5,
   "metadata": {},
   "outputs": [],
   "source": [
    "import copy "
   ]
  },
  {
   "cell_type": "markdown",
   "metadata": {},
   "source": [
    "### Class Model \n"
   ]
  },
  {
   "cell_type": "code",
   "execution_count": 6,
   "metadata": {},
   "outputs": [],
   "source": [
    "class Model() :\n",
    "    network = [[1 for i in range(4)] for j in range(100000)]\n",
    "    it =  0 \n",
    "\n",
    "    def input(self,input) :\n",
    "        self.input = input \n",
    "        \n",
    "    def output(self,output) :\n",
    "        self.output = output \n",
    "        \n",
    "    def add(self,input_shape , prev_shape , activation_func) :\n",
    "            weight = [[random() for i in range(prev_shape)] for j in range(input_shape)]\n",
    "            neuron = [random() for i in range(input_shape)]\n",
    "            bias = random()\n",
    "\n",
    "            self.network[self.it][0],self.network[self.it][1],self.network[self.it][2],self.network[self.it][3] =  weight,neuron,bias,activation_func\n",
    "            self.it+=1 \n",
    "            \n",
    "    \n",
    "            \n",
    "    \n",
    "    "
   ]
  },
  {
   "cell_type": "markdown",
   "metadata": {},
   "source": [
    "### Forward Propagation  "
   ]
  },
  {
   "cell_type": "code",
   "execution_count": 7,
   "metadata": {},
   "outputs": [],
   "source": [
    "def active_sum(input,weight,bias) :\n",
    "    activation = bias \n",
    "    for i in range(len(weight)) : \n",
    "        activation += (weight[i]*input[i]) \n",
    "        \n",
    "    return activation"
   ]
  },
  {
   "cell_type": "code",
   "execution_count": 8,
   "metadata": {},
   "outputs": [],
   "source": [
    "def sigmoid(input) :\n",
    "    return 1.0/(1.0 + np.exp(-input))"
   ]
  },
  {
   "cell_type": "code",
   "execution_count": 9,
   "metadata": {},
   "outputs": [],
   "source": [
    "def ReLU(input) :\n",
    "    if(input >0) :\n",
    "        return input \n",
    "    return (0.01*input)"
   ]
  },
  {
   "cell_type": "code",
   "execution_count": 10,
   "metadata": {},
   "outputs": [],
   "source": [
    "def Activation(sum_active,function) :\n",
    "    if(function == 'ReLU'):\n",
    "        return ReLU(sum_active)\n",
    "    if(function == 'sigmoid') :\n",
    "        return sigmoid(sum_active)"
   ]
  },
  {
   "cell_type": "code",
   "execution_count": 11,
   "metadata": {},
   "outputs": [],
   "source": [
    "def forward_prop(network,input,bias,it) :\n",
    "    #print(it)\n",
    "    my_input = input\n",
    "    my_bias = bias \n",
    "    for i in range(it-1) :  #Each hidden layer\n",
    "        for j in range(len(network[i][1])): #For each neuron \n",
    "            sum_active = active_sum(network[i][0][j],my_input,my_bias)\n",
    "            activation = Activation(sum_active,network[i][3])\n",
    "            #print(activation)           \n",
    "            network[i][1][j] = activation\n",
    "            \n",
    "        my_input = network[i][1]\n",
    "        my_bias = network[i][2]\n",
    "        \n",
    "    for j in range(len(network[it-1][1])): #For each neuron \n",
    "            sum_active = active_sum(network[it-1][0][j],my_input,my_bias)\n",
    "            activation = Activation(sum_active,network[it-1][3])      \n",
    "            network[it-1][1][j] = activation\n",
    "                       \n",
    "    return network"
   ]
  },
  {
   "cell_type": "markdown",
   "metadata": {},
   "source": [
    "### Backward Propagation  "
   ]
  },
  {
   "cell_type": "code",
   "execution_count": 12,
   "metadata": {},
   "outputs": [],
   "source": [
    "def sig_derivative(input) :\n",
    "    \n",
    "    return sigmoid(input)*(1.0  - sigmoid(input))"
   ]
  },
  {
   "cell_type": "code",
   "execution_count": 13,
   "metadata": {},
   "outputs": [],
   "source": [
    "def rel_derivative(input) :\n",
    "    if(input >0) :\n",
    "        return 1 \n",
    "    return (-0.01) "
   ]
  },
  {
   "cell_type": "code",
   "execution_count": 14,
   "metadata": {},
   "outputs": [],
   "source": [
    "def derivative(input,function) :\n",
    "    if(function == 'ReLU') :\n",
    "       ## print(\"ReLu\")\n",
    "        return rel_derivative(input)\n",
    "    if(function == 'sigmoid') :\n",
    "        #print(\"Sigmoid\")\n",
    "        return sig_derivative(input)"
   ]
  },
  {
   "cell_type": "code",
   "execution_count": 15,
   "metadata": {},
   "outputs": [],
   "source": [
    "def back_prop(network,input,output,learning_rate,bias,it) :\n",
    "    error = [[1 for i in range(1000)] for j in range(it)]\n",
    "    #For last layer \n",
    "    it-=1 \n",
    "    sum_det = 0 #For bias \n",
    "    for i in range(len(network[it][1])) : #For each neuron \n",
    "        \n",
    "        error[it][i] = output[i] - network[it][1][i]  #Error of ith output neuron\n",
    "        #print(\"error in \",it,\" layer and \",i,\"th neuron is \",error[it][i])            #Printing !!!!!!!!!!\n",
    "        delta = error[it][i]*derivative(network[it][1][i],network[it][3]) \n",
    "        sum_det += delta\n",
    "        error[it][i] = delta \n",
    "        \n",
    "        #Now adjusting all weights to this neuron \n",
    "        for j in range(len(network[it][0][i])) :\n",
    "            network[it][0][i][j] += (learning_rate*delta*network[it-1][1][j])\n",
    "            \n",
    "            \n",
    "    network[it-1][2] *= (1 + learning_rate*sum_det)\n",
    "    \n",
    "    it-=1 \n",
    "    \n",
    "    \n",
    "    ## Now doing for all layers but first \n",
    "    while(it != 0) :\n",
    "        sum_det = 0\n",
    "        for i in range(len(network[it][1])) : #For each neuron \n",
    "            \n",
    "            err = 0 #Calculating err for each neuron which is summation(error[it+1][j]*w[j][i])\n",
    "            \n",
    "            for j in range(len(network[it+1][1])) :\n",
    "                err += (error[it+1][j]*network[it+1][0][j][i])\n",
    "                \n",
    "            \n",
    "            error[it][i] = err \n",
    "            delta = error[it][i]*derivative(network[it][1][i],network[it][3]) \n",
    "            error[it][i] = delta\n",
    "            sum_det += delta\n",
    "            for j in range(len(network[it][0][i])) :\n",
    "                network[it][0][i][j] += (learning_rate*delta*network[it-1][1][j])\n",
    "            \n",
    "            \n",
    "        network[it-1][2] *= (1 + learning_rate*sum_det)\n",
    "\n",
    "        it-=1 \n",
    "        \n",
    "        \n",
    "    #Now for last layer . Here the only change will be that instead of network we'll take input and input bias \n",
    "    \n",
    "    sum_det = 0\n",
    "    for i in range(len(network[it][1])) : #For each neuron \n",
    "\n",
    "        err = 0 #Calculating err for each neuron which is summation(error[it+1][j]*w[j][i])\n",
    "\n",
    "        for j in range(len(network[it+1][1])) :\n",
    "            err += (error[it+1][j]*network[it+1][0][j][i])\n",
    "\n",
    "\n",
    "        error[it][i] = err \n",
    "        delta = error[it][i]*derivative(network[it][1][i],network[it][3])  \n",
    "        error[it][i] = delta\n",
    "        sum_det += delta\n",
    "        for j in range(len(network[it][0][i])) :\n",
    "            network[it][0][i][j] += (learning_rate*delta*input[j])\n",
    "\n",
    "\n",
    "    bias*= (1 + learning_rate*sum_det)\n",
    "    \n",
    "            \n",
    "            \n",
    "    \n",
    "    return network\n",
    "        \n",
    "    "
   ]
  },
  {
   "cell_type": "markdown",
   "metadata": {},
   "source": [
    "### Training and Prediction \n"
   ]
  },
  {
   "cell_type": "code",
   "execution_count": 16,
   "metadata": {},
   "outputs": [],
   "source": [
    "def normalise(input) :\n",
    "    mean = sum(input) / len(input) \n",
    "    variance = sum([((x - mean) ** 2) for x in input]) / len(input)\n",
    "    for k in range(len(input)) :\n",
    "        input[k] = (input[k] - mean)/variance\n",
    "        \n",
    "    return input"
   ]
  },
  {
   "cell_type": "code",
   "execution_count": 17,
   "metadata": {},
   "outputs": [],
   "source": [
    "def error_function(output,actual_output) :\n",
    "    #print(output , \" and  \",actual_output) \n",
    "    leng = len(output) \n",
    "    answer = 0\n",
    "    for i in range(leng):\n",
    "        answer += (actual_output[i]*(float(math.log(output[i]))) + (1-actual_output[i])*(float(math.log(1 - output[i]))))\n",
    "        \n",
    "    return answer/3 "
   ]
  },
  {
   "cell_type": "code",
   "execution_count": 18,
   "metadata": {},
   "outputs": [],
   "source": [
    "def train(network,input,output,bias,learning_rate,it,epoch) :\n",
    "    error = []\n",
    "    for i in range(epoch):\n",
    "        for j in range(5) :\n",
    "            answer = 0 \n",
    "            input[0][j] = normalise(input[0][j]) \n",
    "            network = forward_prop(network,input[0][j],bias,it)\n",
    "            network = back_prop(network,input[0][j],output[0],learning_rate,bias,it)\n",
    "            \n",
    "            answer += error_function(network[it-1][1],output[0])\n",
    "            \n",
    "            input[1][j] = normalise(input[1][j]) \n",
    "            network = forward_prop(network,input[1][j],bias,it)\n",
    "            network = back_prop(network,input[1][j],output[1],learning_rate,bias,it)\n",
    "            \n",
    "            answer += error_function(network[it-1][1],output[1])\n",
    "            \n",
    "            input[2][j] = normalise(input[2][j]) \n",
    "            network = forward_prop(network,input[2][j],bias,it)\n",
    "            network = back_prop(network,input[2][j],output[2],learning_rate,bias,it)\n",
    "            \n",
    "            answer += error_function(network[it-1][1],output[1])\n",
    "                \n",
    "        error.append(answer/15)\n",
    "    \n",
    "    return network,error"
   ]
  },
  {
   "cell_type": "code",
   "execution_count": 31,
   "metadata": {},
   "outputs": [],
   "source": [
    "def predict(input,network,bias,it) :\n",
    "    d = {1:'J',2:'P',3:'G'}\n",
    "    tmp = copy.deepcopy(network) \n",
    "    input = normalise(input) \n",
    "    my_input = input\n",
    "    my_bias = bias \n",
    "    for i in range(it-1) :  #Each hidden layer\n",
    "        for j in range(len(network[i][1])): #For each neuron \n",
    "            sum_active = active_sum(tmp[i][0][j],my_input,my_bias)\n",
    "            activation = Activation(sum_active,tmp[i][3])      \n",
    "            tmp[i][1][j] = activation\n",
    "            \n",
    "        my_input = tmp[i][1]\n",
    "        my_bias = tmp[i][2]\n",
    "        \n",
    "    for j in range(len(tmp[it-1][1])): #For each neuron \n",
    "            sum_active = active_sum(tmp[it-1][0][j],my_input,my_bias)\n",
    "            activation = Activation(sum_active,tmp[it-1][3])         \n",
    "            tmp[it-1][1][j] = activation\n",
    "            \n",
    "    \n",
    "\n",
    "    max_ind = 0 \n",
    "    if(tmp[it-1][1][1] > tmp[it-1][1][0]) :\n",
    "        max_ind = 1 \n",
    "    if(tmp[it-1][1][2] > tmp[it-1][1][max_ind]) :\n",
    "        max_ind = 2 \n",
    "        \n",
    "        \n",
    "    \n",
    "    return tmp[it-1][1]\n",
    "\n",
    "    \n",
    "    "
   ]
  },
  {
   "cell_type": "markdown",
   "metadata": {},
   "source": [
    "### Taking Image input  "
   ]
  },
  {
   "cell_type": "code",
   "execution_count": 20,
   "metadata": {},
   "outputs": [],
   "source": [
    "def image_input(file) :\n",
    "    img = Image.open(file).resize((10,10)).convert(\"L\")\n",
    "    pix = list(img.getdata())\n",
    "    for i in range(len(pix)) :\n",
    "        if(pix[i] < 255) :\n",
    "            pix[i]= 1 \n",
    "        else :\n",
    "            pix[i] = 0 \n",
    "            \n",
    "    return pix "
   ]
  },
  {
   "cell_type": "code",
   "execution_count": 21,
   "metadata": {},
   "outputs": [],
   "source": [
    "img = [[],[],[]]\n",
    "for i in range(5) :\n",
    "    file = \"J\" + str(i+1) + \".png\"\n",
    "    img[0].append(image_input(file))\n",
    "    \n",
    "for i in range(5) :\n",
    "    file = \"P\" + str(i+1) + \".png\"\n",
    "    img[1].append(image_input(file))\n",
    "    \n",
    "for i in range(5) :\n",
    "    file = \"G\" + str(i+1) + \".png\"\n",
    "    img[2].append(image_input(file))"
   ]
  },
  {
   "cell_type": "code",
   "execution_count": 22,
   "metadata": {},
   "outputs": [],
   "source": [
    "output= [[1,0,0],[0,1,0],[0,0,1]]"
   ]
  },
  {
   "cell_type": "markdown",
   "metadata": {},
   "source": [
    "### Building Model  "
   ]
  },
  {
   "cell_type": "code",
   "execution_count": 23,
   "metadata": {},
   "outputs": [],
   "source": [
    "model = Model()"
   ]
  },
  {
   "cell_type": "code",
   "execution_count": 24,
   "metadata": {},
   "outputs": [],
   "source": [
    "model.add(35,100,'sigmoid')\n",
    "model.add(15,35,'sigmoid')\n",
    "model.add(3,15,'sigmoid')"
   ]
  },
  {
   "cell_type": "code",
   "execution_count": 25,
   "metadata": {},
   "outputs": [],
   "source": [
    "bias = 1\n",
    "epoch = 200\n",
    "learning_rate = 0.1"
   ]
  },
  {
   "cell_type": "code",
   "execution_count": 26,
   "metadata": {},
   "outputs": [],
   "source": [
    "model.network , error  = train(model.network,img,output,bias,learning_rate,model.it,epoch)"
   ]
  },
  {
   "cell_type": "code",
   "execution_count": 27,
   "metadata": {},
   "outputs": [
    {
     "data": {
      "text/plain": [
       "-0.10065679338627696"
      ]
     },
     "execution_count": 27,
     "metadata": {},
     "output_type": "execute_result"
    }
   ],
   "source": [
    "error[len(error)-1]"
   ]
  },
  {
   "cell_type": "markdown",
   "metadata": {},
   "source": [
    "#### Error vs Epoch Diagram  "
   ]
  },
  {
   "cell_type": "code",
   "execution_count": 28,
   "metadata": {},
   "outputs": [
    {
     "data": {
      "image/png": "[encoded data removed]",
      "text/plain": [
       "<Figure size 432x288 with 1 Axes>"
      ]
     },
     "metadata": {
      "needs_background": "light"
     },
     "output_type": "display_data"
    }
   ],
   "source": [
    "label = [i for i in range(epoch)]\n",
    "plt.xlabel(\"Epoch\")\n",
    "plt.ylabel(\"Error\")\n",
    "plt.title(\"Error vs Epoch\")\n",
    "plt.plot(label,error)\n",
    "plt.show()"
   ]
  },
  {
   "cell_type": "markdown",
   "metadata": {},
   "source": [
    "### Prediction "
   ]
  },
  {
   "cell_type": "code",
   "execution_count": 29,
   "metadata": {},
   "outputs": [],
   "source": [
    "test1 =  image_input(\"JTest2.png\")\n",
    "test2 =  image_input(\"P1.png\")\n",
    "test3 =  image_input(\"GTest2.png\")\n",
    "test4 = image_input(\"Random.png\")  #K\n",
    "test5 = image_input(\"Random2.png\") #Q\n",
    "test6 = image_input(\"Random3.png\") #W"
   ]
  },
  {
   "cell_type": "code",
   "execution_count": 45,
   "metadata": {},
   "outputs": [
    {
     "data": {
      "text/plain": [
       "[0.9457622854134949, 0.03221293669259621, 0.011771839238598317]"
      ]
     },
     "execution_count": 45,
     "metadata": {},
     "output_type": "execute_result"
    }
   ],
   "source": [
    "predict(test1,model.network,bias,model.it)\n"
   ]
  },
  {
   "cell_type": "code",
   "execution_count": 47,
   "metadata": {},
   "outputs": [
    {
     "data": {
      "text/plain": [
       "[0.06673953916860827, 0.912580339497619, 0.022227354534140875]"
      ]
     },
     "execution_count": 47,
     "metadata": {},
     "output_type": "execute_result"
    }
   ],
   "source": [
    "predict(test2,model.network,bias,model.it)"
   ]
  },
  {
   "cell_type": "code",
   "execution_count": 48,
   "metadata": {},
   "outputs": [
    {
     "data": {
      "text/plain": [
       "[0.009719601112346411, 0.047800260586916506, 0.8857109317434094]"
      ]
     },
     "execution_count": 48,
     "metadata": {},
     "output_type": "execute_result"
    }
   ],
   "source": [
    "predict(test3,model.network,bias,model.it)"
   ]
  },
  {
   "cell_type": "code",
   "execution_count": 49,
   "metadata": {},
   "outputs": [
    {
     "data": {
      "text/plain": [
       "[0.8532484193658881, 0.020728340849073698, 0.08764837943978318]"
      ]
     },
     "execution_count": 49,
     "metadata": {},
     "output_type": "execute_result"
    }
   ],
   "source": [
    "predict(test4,model.network,bias,model.it)"
   ]
  },
  {
   "cell_type": "code",
   "execution_count": 50,
   "metadata": {},
   "outputs": [
    {
     "data": {
      "text/plain": [
       "[0.00729900525946771, 0.02536536291147184, 0.9635520453781697]"
      ]
     },
     "execution_count": 50,
     "metadata": {},
     "output_type": "execute_result"
    }
   ],
   "source": [
    "predict(test5,model.network,bias,model.it)"
   ]
  },
  {
   "cell_type": "code",
   "execution_count": 37,
   "metadata": {},
   "outputs": [
    {
     "name": "stdout",
     "output_type": "stream",
     "text": [
      "[0.08830783113228662, 0.23344998141766685, 0.6419799686394836]\n"
     ]
    }
   ],
   "source": [
    "a = predict(test6,model.network,bias,model.it)"
   ]
  },
  {
   "cell_type": "code",
   "execution_count": null,
   "metadata": {},
   "outputs": [],
   "source": []
  },
  {
   "cell_type": "code",
   "execution_count": null,
   "metadata": {},
   "outputs": [],
   "source": []
  }
 ],
 "metadata": {
  "kernelspec": {
   "display_name": "Python 3",
   "language": "python",
   "name": "python3"
  },
  "language_info": {
   "codemirror_mode": {
    "name": "ipython",
    "version": 3
   },
   "file_extension": ".py",
   "mimetype": "text/x-python",
   "name": "python",
   "nbconvert_exporter": "python",
   "pygments_lexer": "ipython3",
   "version": "3.7.4"
  }
 },
 "nbformat": 4,
 "nbformat_minor": 2
}
