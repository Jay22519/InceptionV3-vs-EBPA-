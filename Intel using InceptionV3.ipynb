{
 "cells": [
  {
   "cell_type": "code",
   "execution_count": 1,
   "metadata": {},
   "outputs": [],
   "source": [
    "import os "
   ]
  },
  {
   "cell_type": "code",
   "execution_count": 5,
   "metadata": {},
   "outputs": [
    {
     "data": {
      "text/plain": [
       "'C:\\\\Users\\\\HP\\\\NFT assignment 2'"
      ]
     },
     "execution_count": 5,
     "metadata": {},
     "output_type": "execute_result"
    }
   ],
   "source": [
    "os.getcwd()"
   ]
  },
  {
   "cell_type": "code",
   "execution_count": 6,
   "metadata": {},
   "outputs": [],
   "source": [
    "import glob\n",
    "import numpy as np\n",
    "import pandas as pd \n"
   ]
  },
  {
   "cell_type": "code",
   "execution_count": 14,
   "metadata": {},
   "outputs": [],
   "source": [
    "import tensorflow as tf\n",
    "from tensorflow.keras.preprocessing.image import load_img, img_to_array"
   ]
  },
  {
   "cell_type": "code",
   "execution_count": 17,
   "metadata": {},
   "outputs": [],
   "source": [
    "def prepare_dataset(path,label):\n",
    "    x_train=[]\n",
    "    y_train=[]\n",
    "    all_images_path=glob.glob(path+'/*.jpg')\n",
    "    for img_path in all_images_path :\n",
    "            img=load_img(img_path, target_size=(150,150))\n",
    "            img=img_to_array(img)\n",
    "            img=img/255.0\n",
    "            x_train.append(img)\n",
    "            y_train.append(label)\n",
    "    return np.array(x_train),np.array(y_train)"
   ]
  },
  {
   "cell_type": "code",
   "execution_count": 19,
   "metadata": {},
   "outputs": [],
   "source": [
    "def prepare_dataset_train(path,label):\n",
    "    x_train=[]\n",
    "    y_train=[]\n",
    "    inp  = 0 \n",
    "    all_images_path=glob.glob(path+'/*.jpg')\n",
    "    for img_path in all_images_path :\n",
    "            img=load_img(img_path, target_size=(150,150))\n",
    "            img=img_to_array(img)\n",
    "            img=img/255.0\n",
    "            if(inp%4 == 0) :\n",
    "                x_train.append(img)\n",
    "                y_train.append(label)\n",
    "            inp += 1 \n",
    "    return np.array(x_train),np.array(y_train)"
   ]
  },
  {
   "cell_type": "code",
   "execution_count": 8,
   "metadata": {},
   "outputs": [
    {
     "name": "stdout",
     "output_type": "stream",
     "text": [
      "['buildings']\n",
      "['buildings', 'forest']\n",
      "['buildings', 'forest', 'glacier']\n",
      "['buildings', 'forest', 'glacier', 'mountain']\n",
      "['buildings', 'forest', 'glacier', 'mountain', 'sea']\n",
      "['buildings', 'forest', 'glacier', 'mountain', 'sea', 'street']\n"
     ]
    }
   ],
   "source": [
    "paths=glob.glob('E://seg_train/seg_train/*')\n",
    "l=len('E://seg_train/seg_train/')\n",
    "labels=[]\n",
    "for path in paths:\n",
    "    labels.append(path[l:])\n",
    "    print(labels)"
   ]
  },
  {
   "cell_type": "code",
   "execution_count": 15,
   "metadata": {},
   "outputs": [],
   "source": [
    "testX_building, testY_building  = prepare_dataset(\"E://seg_test/seg_test/buildings/\",0)\n",
    "testX_forest,testY_forest  = prepare_dataset(\"E://seg_test/seg_test/forest/\",1)\n",
    "testX_glacier,testY_glacier  = prepare_dataset(\"E://seg_test/seg_test/glacier/\",2)\n",
    "testX_mount,testY_mount  = prepare_dataset(\"E://seg_test/seg_test/mountain/\",3)\n",
    "testX_sea,testY_sea  = prepare_dataset(\"E://seg_test/seg_test/sea/\",4)\n",
    "testX_street,testY_street  = prepare_dataset(\"E://seg_test/seg_test/street/\",5)\n",
    "\n",
    "x_test=np.concatenate((testX_building,testX_forest,testX_glacier,testX_mount,testX_sea,testX_street),axis=0)\n",
    "y_test=np.concatenate((testY_building,testY_forest,testY_glacier,testY_mount,testY_sea,testY_street),axis=0)"
   ]
  },
  {
   "cell_type": "code",
   "execution_count": 16,
   "metadata": {},
   "outputs": [
    {
     "data": {
      "text/plain": [
       "(3000, 150, 150, 3)"
      ]
     },
     "execution_count": 16,
     "metadata": {},
     "output_type": "execute_result"
    }
   ],
   "source": [
    "x_test.shape "
   ]
  },
  {
   "cell_type": "code",
   "execution_count": 20,
   "metadata": {},
   "outputs": [],
   "source": [
    "trainX_building, trainY_building  = prepare_dataset(\"E://seg_train/seg_train/buildings/\",0)\n",
    "trainX_forest,trainY_forest  = prepare_dataset(\"E://seg_train/seg_train/forest/\",1)\n",
    "trainX_glacier,trainY_glacier  = prepare_dataset(\"E://seg_train/seg_train/glacier/\",2)\n",
    "trainX_mount,trainY_mount  = prepare_dataset(\"E://seg_train/seg_train/mountain/\",3)\n",
    "trainX_sea,trainY_sea  = prepare_dataset(\"E://seg_train/seg_train/sea/\",4)\n",
    "trainX_street,trainY_street  = prepare_dataset(\"E://seg_train/seg_train/street/\",5)"
   ]
  },
  {
   "cell_type": "code",
   "execution_count": 21,
   "metadata": {},
   "outputs": [],
   "source": [
    "x_train =np.concatenate((trainX_building,trainX_forest,trainX_glacier,trainX_mount,trainX_sea,trainX_street),axis=0)\n",
    "y_train = np.concatenate((trainY_building,trainY_forest,trainY_glacier,trainY_mount,trainY_sea,trainY_street),axis=0)"
   ]
  },
  {
   "cell_type": "code",
   "execution_count": null,
   "metadata": {},
   "outputs": [],
   "source": []
  },
  {
   "cell_type": "code",
   "execution_count": 22,
   "metadata": {},
   "outputs": [],
   "source": [
    "import os\n",
    "from tensorflow.keras import layers\n",
    "from tensorflow.keras import Model\n",
    "from tensorflow.keras.applications.inception_v3 import InceptionV3\n",
    "from tensorflow.keras.optimizers import RMSprop"
   ]
  },
  {
   "cell_type": "code",
   "execution_count": 23,
   "metadata": {},
   "outputs": [],
   "source": [
    "pre_trained_model = InceptionV3(input_shape = (150, 150, 3), \n",
    "                                include_top = False, \n",
    "                                weights = \"imagenet\")"
   ]
  },
  {
   "cell_type": "code",
   "execution_count": 24,
   "metadata": {},
   "outputs": [],
   "source": [
    "for layer in pre_trained_model.layers:\n",
    "     layer.trainable = False"
   ]
  },
  {
   "cell_type": "code",
   "execution_count": 25,
   "metadata": {},
   "outputs": [
    {
     "name": "stdout",
     "output_type": "stream",
     "text": [
      "last layer output shape:  (None, 7, 7, 768)\n"
     ]
    }
   ],
   "source": [
    "last_layer = pre_trained_model.get_layer('mixed7')\n",
    "print('last layer output shape: ', last_layer.output_shape)\n",
    "last_output = last_layer.output"
   ]
  },
  {
   "cell_type": "code",
   "execution_count": 26,
   "metadata": {},
   "outputs": [],
   "source": [
    "x = layers.Flatten()(last_output)\n",
    "x = layers.Dense(1024, activation='relu')(x)\n",
    "x = layers.Dropout(0.2)(x)                  \n",
    "x = layers.Dense(6, activation='softmax')(x)  "
   ]
  },
  {
   "cell_type": "code",
   "execution_count": 27,
   "metadata": {},
   "outputs": [],
   "source": [
    "model = Model(pre_trained_model.input, x) "
   ]
  },
  {
   "cell_type": "code",
   "execution_count": 28,
   "metadata": {},
   "outputs": [],
   "source": [
    "model.compile(optimizer = RMSprop(lr=0.0001), \n",
    "              loss = 'sparse_categorical_crossentropy', \n",
    "              metrics = ['acc'])"
   ]
  },
  {
   "cell_type": "code",
   "execution_count": 29,
   "metadata": {},
   "outputs": [
    {
     "name": "stdout",
     "output_type": "stream",
     "text": [
      "439/439 [==============================] - 574s 1s/step - loss: 0.4157 - acc: 0.8641 - val_loss: 0.3288 - val_acc: 0.8817\n"
     ]
    }
   ],
   "source": [
    "history=model.fit(x_train,y_train,epochs=1,validation_data=(x_test,y_test))"
   ]
  },
  {
   "cell_type": "code",
   "execution_count": null,
   "metadata": {},
   "outputs": [],
   "source": []
  },
  {
   "cell_type": "code",
   "execution_count": null,
   "metadata": {},
   "outputs": [],
   "source": []
  }
 ],
 "metadata": {
  "kernelspec": {
   "display_name": "Python 3",
   "language": "python",
   "name": "python3"
  },
  "language_info": {
   "codemirror_mode": {
    "name": "ipython",
    "version": 3
   },
   "file_extension": ".py",
   "mimetype": "text/x-python",
   "name": "python",
   "nbconvert_exporter": "python",
   "pygments_lexer": "ipython3",
   "version": "3.8.3"
  }
 },
 "nbformat": 4,
 "nbformat_minor": 2
}
