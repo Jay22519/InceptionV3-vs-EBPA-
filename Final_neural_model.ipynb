{
  "nbformat": 4,
  "nbformat_minor": 0,
  "metadata": {
    "colab": {
      "name": "Final_neural_model.ipynb",
      "provenance": [],
      "collapsed_sections": []
    },
    "kernelspec": {
      "display_name": "Python 3",
      "name": "python3"
    }
  },
  "cells": [
    {
      "cell_type": "code",
      "metadata": {
        "id": "-PC2yW-DlF-D"
      },
      "source": [
        "import glob\n",
        "\n",
        "# Importing drive method from colab for accessing google drive\n",
        "from google.colab import drive"
      ],
      "execution_count": 60,
      "outputs": []
    },
    {
      "cell_type": "code",
      "metadata": {
        "colab": {
          "base_uri": "https://localhost:8080/"
        },
        "id": "SgFk4VF4lKzN",
        "outputId": "a301bdf0-39a6-4d1a-ae4a-e6e7c99c8106"
      },
      "source": [
        "drive.mount('/content/drive')"
      ],
      "execution_count": 61,
      "outputs": [
        {
          "output_type": "stream",
          "text": [
            "Drive already mounted at /content/drive; to attempt to forcibly remount, call drive.mount(\"/content/drive\", force_remount=True).\n"
          ],
          "name": "stdout"
        }
      ]
    },
    {
      "cell_type": "code",
      "metadata": {
        "id": "LKcLHxtplMNm"
      },
      "source": [
        "import glob\n",
        "import numpy as np\n",
        "import pandas as pd "
      ],
      "execution_count": 62,
      "outputs": []
    },
    {
      "cell_type": "code",
      "metadata": {
        "id": "OpBJ3am1lXul"
      },
      "source": [
        "import tensorflow as tf\n",
        "from tensorflow.keras.preprocessing.image import load_img, img_to_array"
      ],
      "execution_count": 63,
      "outputs": []
    },
    {
      "cell_type": "code",
      "metadata": {
        "id": "waJ2f-uAlYah"
      },
      "source": [
        "import copy "
      ],
      "execution_count": 64,
      "outputs": []
    },
    {
      "cell_type": "code",
      "metadata": {
        "id": "p4ETofqulYd2"
      },
      "source": [
        "class Model() :\n",
        "    network = [[1 for i in range(4)] for j in range(100000)]\n",
        "    it =  0 \n",
        "\n",
        "    def input(self,input) :\n",
        "        self.input = input \n",
        "        \n",
        "    def output(self,output) :\n",
        "        self.output = output \n",
        "        \n",
        "    def add(self,input_shape , prev_shape , activation_func) :\n",
        "            weight = [[random() for i in range(prev_shape)] for j in range(input_shape)]\n",
        "            neuron = [random() for i in range(input_shape)]\n",
        "            bias = random()\n",
        "\n",
        "            self.network[self.it][0],self.network[self.it][1],self.network[self.it][2],self.network[self.it][3] =  weight,neuron,bias,activation_func\n",
        "            self.it+=1 \n",
        "            \n",
        "    \n",
        "            \n",
        "    \n",
        "    "
      ],
      "execution_count": 65,
      "outputs": []
    },
    {
      "cell_type": "code",
      "metadata": {
        "id": "0QxZqYKvlYg6"
      },
      "source": [
        "def conv2d(image,kernel) :\n",
        "    \n",
        "    #kernel.size = (3,3) ; \n",
        "    length = len(image)\n",
        "    #print(length)\n",
        "    output = [[[0,0,0]  for j in range(length-3)] for i in range(length-3) ]\n",
        "    for i in range(0,length-3,1) :\n",
        "        for j in range(0,length-3,1) :\n",
        "            for k in range(3):\n",
        "                ans = 0 \n",
        "                for a in range(3):\n",
        "                    for b in range(3) :\n",
        "                        ans += image[i+a][j+b][k]*kernel[a][b]\n",
        "                #print(ans)\n",
        "                output[i][j][k] =  ans \n",
        "                \n",
        "                \n",
        "    return output\n",
        "\n",
        "# (image[3:6][0:3][0]*kernel).sum()\n",
        "     "
      ],
      "execution_count": 66,
      "outputs": []
    },
    {
      "cell_type": "code",
      "metadata": {
        "id": "SNwU9JXKlYjn"
      },
      "source": [
        "filter = [[[1/9,1/9,1/9],[1/9,1/9,1/9],[1/9,1/9,1/9]],[[0,-1,0],\n",
        "                                                       [-1,5,-1],[0,-1,0]],[[1 ,0,1],[-2,0,2],[-1,0,1]],[[1,-2,-1],[0,0,0],[1,2,1]]]"
      ],
      "execution_count": 67,
      "outputs": []
    },
    {
      "cell_type": "code",
      "metadata": {
        "id": "-O5003WMlYmR"
      },
      "source": [
        "def pooling(feature_map, size=2, stride=2):    \n",
        "    pool_out = np.zeros((np.uint16((feature_map.shape[0]-size+1)/stride),  \n",
        "                              np.uint16((feature_map.shape[1]-size+1)/stride),  \n",
        "                              feature_map.shape[-1]))  \n",
        "    for map_num in range(feature_map.shape[-1]):  \n",
        "        r2 = 0  \n",
        "        for r in np.arange(0,feature_map.shape[0]-size-1, stride):  \n",
        "            c2 = 0  \n",
        "            for c in np.arange(0, feature_map.shape[1]-size-1, stride):  \n",
        "                pool_out[r2, c2, map_num] = np.max(feature_map[r:r+size,  c:c+size])  \n",
        "                c2 = c2 + 1  \n",
        "            r2 = r2 +1 \n",
        "            \n",
        "    return pool_out\n",
        "                "
      ],
      "execution_count": 68,
      "outputs": []
    },
    {
      "cell_type": "code",
      "metadata": {
        "id": "84Kcgg1plYpG"
      },
      "source": [
        ""
      ],
      "execution_count": 68,
      "outputs": []
    },
    {
      "cell_type": "markdown",
      "metadata": {
        "id": "YtGUW4wKnzcI"
      },
      "source": [
        "FORWARD PROPAGATION\n",
        "\n",
        "```\n",
        "# This is formatted as code\n",
        "```\n",
        "\n"
      ]
    },
    {
      "cell_type": "code",
      "metadata": {
        "id": "IFpKJVn2mBPI"
      },
      "source": [
        "def active_sum(input,weight,bias) :\n",
        "    activation = bias \n",
        "    for i in range(len(weight)) : \n",
        "        activation += (weight[i]*input[i]) \n",
        "        \n",
        "    return activation"
      ],
      "execution_count": 69,
      "outputs": []
    },
    {
      "cell_type": "code",
      "metadata": {
        "id": "F_n0sTxWmBTS"
      },
      "source": [
        "def sigmoid(input) :\n",
        "    return 1.0/(1.0 + np.exp(-input))"
      ],
      "execution_count": 70,
      "outputs": []
    },
    {
      "cell_type": "code",
      "metadata": {
        "id": "Cl3ZGb_PmBXW"
      },
      "source": [
        "def ReLU(input) :\n",
        "    if(input >0) :\n",
        "        return input \n",
        "    return (0.01*input)"
      ],
      "execution_count": 71,
      "outputs": []
    },
    {
      "cell_type": "code",
      "metadata": {
        "id": "zk4QoluTooiM"
      },
      "source": [
        "def Softmax(input) :\n",
        "  output = [0 for i in range(len(input))]\n",
        "  sum =  0 \n",
        "  for i in range(len(input)) :\n",
        "    sum += np.exp(input[i]) \n",
        "  for i in range(len(input)) :\n",
        "    output[i] = (np.exp(input[i]))/sum \n",
        "\n",
        "  return output"
      ],
      "execution_count": 72,
      "outputs": []
    },
    {
      "cell_type": "code",
      "metadata": {
        "id": "yPt0r3RnmBa4"
      },
      "source": [
        "def Activation(sum_active,function) :\n",
        "    if(function == 'ReLU'):\n",
        "        return ReLU(sum_active)\n",
        "    if(function == 'sigmoid') :\n",
        "        return sigmoid(sum_active)\n",
        "    if(function == 'softmax') :\n",
        "      return Softmax(sum_active)"
      ],
      "execution_count": 73,
      "outputs": []
    },
    {
      "cell_type": "code",
      "metadata": {
        "id": "UwMH_v8xmBeR"
      },
      "source": [
        "def forward_prop(network,input,bias,it) :\n",
        "    #print(it)\n",
        "    my_input = input\n",
        "    my_bias = bias \n",
        "    #print(my_input)\n",
        "    for i in range(it-1) :  #Each hidden layer\n",
        "        sum_active = [0 for i in range(len(network[i][1]))]\n",
        "        sum_all = 0\n",
        "        for j in range(len(network[i][1])): #For each neuron \n",
        "            sum_active[j] = active_sum(network[i][0][j],my_input,my_bias)\n",
        "            sum_all += sum_active[j]\n",
        "        \n",
        "        sum_active = normalise(sum_active)\n",
        "        ## Instead of normalise , I'll divide it by sum of all output \n",
        "\n",
        "        for j in range(len(network[i][1])) :\n",
        "          #sum_active[j] = sum_active[j]/sum_all\n",
        "          activation = Activation(sum_active[j],network[i][3])      \n",
        "          network[i][1][j] = activation\n",
        "        \n",
        "        my_input = network[i][1]\n",
        "        my_bias = network[i][2]         \n",
        "            \n",
        "    #### For last layer \n",
        "    sum_active1 = [0 for i in range(len(network[it-1][1]))]\n",
        "    for j in range(len(network[it-1][1])) :\n",
        "        sum_active1[j] = active_sum(network[it-1][0][j],my_input,my_bias)\n",
        "    \n",
        "    sum_active = normalise(sum_active)\n",
        "    output = Softmax(sum_active1)\n",
        "    network[it-1][1] = output \n",
        "        \n",
        "            \n",
        "    #output = Softmax(sum_active)\n",
        "    #for j in range(len(network[it-1][1])): #For each neuron \n",
        "     #   network[it-1][1][j] = output[j]\n",
        "                     \n",
        "    return network"
      ],
      "execution_count": 74,
      "outputs": []
    },
    {
      "cell_type": "code",
      "metadata": {
        "id": "Z_tlVqGWmBh-"
      },
      "source": [
        "def sig_derivative(input) :\n",
        "    \n",
        "    return sigmoid(input)*(1.0  - sigmoid(input))"
      ],
      "execution_count": 75,
      "outputs": []
    },
    {
      "cell_type": "code",
      "metadata": {
        "id": "d8tZ-lkgn9EH"
      },
      "source": [
        "def rel_derivative(input) :\n",
        "    if(input >0) :\n",
        "        return 1 \n",
        "    return (-0.01)"
      ],
      "execution_count": 76,
      "outputs": []
    },
    {
      "cell_type": "code",
      "metadata": {
        "id": "q_XKJ2xwn9Hb"
      },
      "source": [
        "def soft_derivative(x) : # Complete layer is passed \n",
        "    y = [0 for i in range(len(x))] \n",
        "    for i in range(len(x)) :\n",
        "        for j in range(len(x)) :\n",
        "            if(i != j) :\n",
        "                y[i] += x[i]*x[j]*(-1) \n",
        "            else :\n",
        "                y[i] += x[i]*(1-x[i]) \n",
        "                \n",
        "    return y"
      ],
      "execution_count": 77,
      "outputs": []
    },
    {
      "cell_type": "code",
      "metadata": {
        "id": "2LnxixYkn9Jq"
      },
      "source": [
        "def derivative(input,function) :\n",
        "\n",
        "    if(function == 'ReLU') :\n",
        "       ## print(\"ReLu\")\n",
        "        return rel_derivative(input)\n",
        "    if(function == 'sigmoid') :\n",
        "        #print(\"Sigmoid\")\n",
        "        return sig_derivative(input)\n",
        "\n",
        "      \n",
        "        "
      ],
      "execution_count": 78,
      "outputs": []
    },
    {
      "cell_type": "code",
      "metadata": {
        "id": "YXROXiAnn9O6"
      },
      "source": [
        "def back_prop(network,input,output,learning_rate,bias,it) :\n",
        "    error = [[1 for i in range(1000)] for j in range(it)]\n",
        "    #For last layer \n",
        "    it-=1 \n",
        "    sum_det = 0 #For bias \n",
        "\n",
        "    ### Calculation error and derivative for Softmax(last layer)\n",
        "    error[it] =  soft_derivative(network[it][1]) \n",
        "    \n",
        "    for j in range(len(error[it])) :\n",
        "        sum_det += error[it][j] \n",
        "\n",
        "    for i in range(len(network[it][1])) : #For each neuron  \n",
        "        #Now adjusting all weights to this neuron \n",
        "        delta = error[it][i]\n",
        "        for j in range(len(network[it][0][i])) :\n",
        "            network[it][0][i][j] += (learning_rate*delta*network[it-1][1][j])\n",
        "            \n",
        "            \n",
        "    network[it-1][2] *= (1 + learning_rate*sum_det)\n",
        "    \n",
        "    it-=1 \n",
        "    \n",
        "    \n",
        "    ## Now doing for all layers but first \n",
        "    while(it != 0) :\n",
        "        sum_det = 0\n",
        "        for i in range(len(network[it][1])) : #For each neuron \n",
        "            \n",
        "            err = 0 #Calculating err for each neuron which is summation(error[it+1][j]*w[j][i])\n",
        "            \n",
        "            for j in range(len(network[it+1][1])) :\n",
        "                err += (error[it+1][j]*network[it+1][0][j][i])\n",
        "                \n",
        "            \n",
        "            error[it][i] = err \n",
        "            delta = error[it][i]*derivative(network[it][1][i],network[it][3]) \n",
        "            error[it][i] = delta\n",
        "            sum_det += delta\n",
        "            for j in range(len(network[it][0][i])) :\n",
        "                network[it][0][i][j] += (learning_rate*delta*network[it-1][1][j])\n",
        "            \n",
        "            \n",
        "        network[it-1][2] *= (1 + learning_rate*sum_det)\n",
        "\n",
        "        it-=1 \n",
        "        \n",
        "        \n",
        "    #Now for last layer . Here the only change will be that instead of network we'll take input and input bias \n",
        "    \n",
        "    sum_det = 0\n",
        "    for i in range(len(network[it][1])) : #For each neuron \n",
        "\n",
        "        err = 0 #Calculating err for each neuron which is summation(error[it+1][j]*w[j][i])\n",
        "\n",
        "        for j in range(len(network[it+1][1])) :\n",
        "            err += (error[it+1][j]*network[it+1][0][j][i])\n",
        "\n",
        "\n",
        "        error[it][i] = err \n",
        "        delta = error[it][i]*derivative(network[it][1][i],network[it][3])  \n",
        "        error[it][i] = delta\n",
        "        sum_det += delta\n",
        "        for j in range(len(network[it][0][i])) :\n",
        "            network[it][0][i][j] += (learning_rate*delta*input[j])\n",
        "\n",
        "\n",
        "    bias*= (1 + learning_rate*sum_det)\n",
        "    \n",
        "            \n",
        "            \n",
        "    \n",
        "    return network\n",
        "        \n",
        "    "
      ],
      "execution_count": 79,
      "outputs": []
    },
    {
      "cell_type": "code",
      "metadata": {
        "id": "1ZDNlmErn9RW"
      },
      "source": [
        "def normalise(input) :\n",
        "    mean = sum(input) / len(input) \n",
        "    variance = sum([((x - mean) ** 2) for x in input]) / len(input)\n",
        "    for k in range(len(input)) :\n",
        "        input[k] = (input[k] - mean)/variance\n",
        "        \n",
        "    return input"
      ],
      "execution_count": 80,
      "outputs": []
    },
    {
      "cell_type": "code",
      "metadata": {
        "id": "cxvyT1r3n9T3"
      },
      "source": [
        "def train(network,output,bias,learning_rate,it,epoch,num_img) :\n",
        "    error = []\n",
        "    \n",
        "    for i in range(epoch):\n",
        "        for j in range(num_img) :\n",
        "            start_time = datetime.now() \n",
        "            answer = 0 \n",
        "            a[j] = normalise(a[j]) \n",
        "            network = forward_prop(network,a[j],bias,it)\n",
        "            network = back_prop(network,a[j],output[0],learning_rate,bias,it)\n",
        "            \n",
        "            #answer += error_function(network[it-1][1],output[0])\n",
        "            #print(\"Time taken to run a is cell is  (hh:mm:ss.ms) {}\".format(datetime.now() - start_time))\n",
        "            b[j] = normalise(b[j]) \n",
        "            network = forward_prop(network,b[j],bias,it)\n",
        "            network = back_prop(network,b[j],output[1],learning_rate,bias,it)\n",
        "            #answer += error_function(network[it-1][1],output[1])\n",
        "            \n",
        "            #print(\"Time taken to run b is cell is  (hh:mm:ss.ms) {}\".format(datetime.now() - start_time))\n",
        "            c[j] = normalise(c[j]) \n",
        "            network = forward_prop(network,c[j],bias,it)\n",
        "            network = back_prop(network,c[j],output[2],learning_rate,bias,it)\n",
        "            #answer += error_function(network[it-1][1],output[2])\n",
        "            #print(\"Time taken to run c is cell is  (hh:mm:ss.ms) {}\".format(datetime.now() - start_time))\n",
        "            \n",
        "            d[j] = normalise(d[j] ) \n",
        "            network = forward_prop(network,d[j] ,bias,it)\n",
        "            network = back_prop(network,d[j] ,output[3],learning_rate,bias,it)\n",
        "            #answer += error_function(network[it-1][1],output[3])\n",
        "            #print(\"Time taken to run d is cell is  (hh:mm:ss.ms) {}\".format(datetime.now() - start_time))\n",
        "            \n",
        "            e[j] = normalise(e[j]) \n",
        "            network = forward_prop(network,e[j],bias,it)\n",
        "            network = back_prop(network,e[j],output[4],learning_rate,bias,it)\n",
        "            #answer += error_function(network[it-1][1],output[4])\n",
        "            #print(\"Time taken to run e is cell is  (hh:mm:ss.ms) {}\".format(datetime.now() - start_time))\n",
        "            \n",
        "            f[j] = normalise(f[j]) \n",
        "            network = forward_prop(network,f[j],bias,it)\n",
        "            network = back_prop(network,f[j],output[5],learning_rate,bias,it)\n",
        "            #answer += error_function(network[it-1][1],output[5])\n",
        "            #print(\"Time taken to run e is cell is  (hh:mm:ss.ms) {}\".format(datetime.now() - start_time))\n",
        "            \n",
        "            \n",
        "            print(\"Image number \",j,\" done\")\n",
        "            print(\"Time taken to run Image \",j,\" is  (hh:mm:ss.ms) {}\".format(datetime.now() - start_time))\n",
        "            print(network[2][1])\n",
        "                \n",
        "        error.append(answer/epoch*num_img)\n",
        "        \n",
        "    \n",
        "    return network,error"
      ],
      "execution_count": 81,
      "outputs": []
    },
    {
      "cell_type": "code",
      "metadata": {
        "id": "TF-csz01n9Wj"
      },
      "source": [
        "\n",
        "    \n",
        "def predict(tmp,input,bias,it) :\n",
        "  network = copy.deepcopy(tmp) \n",
        "  #print(it)\n",
        "  my_input = input\n",
        "  my_bias = bias \n",
        "  #print(my_input)\n",
        "  for i in range(it-1) :  #Each hidden layer\n",
        "      sum_active = [0 for i in range(len(network[i][1]))]\n",
        "      sum_all = 0\n",
        "      for j in range(len(network[i][1])): #For each neuron \n",
        "          sum_active[j] = active_sum(network[i][0][j],my_input,my_bias)\n",
        "          sum_all += sum_active[j]\n",
        "      \n",
        "      sum_active = normalise(sum_active)\n",
        "      ## Instead of normalise , I'll divide it by sum of all output \n",
        "\n",
        "      for j in range(len(network[i][1])) :\n",
        "        #sum_active[j] = sum_active[j]/sum_all\n",
        "        activation = Activation(sum_active[j],network[i][3])      \n",
        "        network[i][1][j] = activation\n",
        "      \n",
        "      my_input = network[i][1]\n",
        "      my_bias = network[i][2]         \n",
        "          \n",
        "  #### For last layer \n",
        "  sum_active1 = [0 for i in range(len(network[it-1][1]))]\n",
        "  for j in range(len(network[it-1][1])) :\n",
        "      sum_active1[j] = active_sum(network[it-1][0][j],my_input,my_bias)\n",
        "  \n",
        "  sum_active = normalise(sum_active)\n",
        "  output = Softmax(sum_active1)\n",
        "  network[it-1][1] = output \n",
        "        \n",
        "            \n",
        "    #output = Softmax(sum_active)\n",
        "    #for j in range(len(network[it-1][1])): #For each neuron \n",
        "     #   network[it-1][1][j] = output[j]\n",
        "                     \n",
        "  return network[it-1][1]"
      ],
      "execution_count": 82,
      "outputs": []
    },
    {
      "cell_type": "code",
      "metadata": {
        "id": "KIswlCy_n9ZY"
      },
      "source": [
        "def dataset_extraction(path,class_number):\n",
        "    x_train=[]\n",
        "    y_train=[]\n",
        "    all_images=glob.glob(path+'/*.jpg')\n",
        "    for path in all_images :\n",
        "            img=load_img(path, target_size=(150,150))\n",
        "            img=img_to_array(img)\n",
        "            img = img/255\n",
        "            x_train.append(img)\n",
        "            y_train.append(class_number)\n",
        "    return np.array(x_train),np.array(y_train)"
      ],
      "execution_count": 83,
      "outputs": []
    },
    {
      "cell_type": "code",
      "metadata": {
        "id": "oXXRnre4rNKj"
      },
      "source": [
        "from datetime import datetime "
      ],
      "execution_count": 84,
      "outputs": []
    },
    {
      "cell_type": "code",
      "metadata": {
        "colab": {
          "base_uri": "https://localhost:8080/"
        },
        "id": "IX4Mig2JrNNk",
        "outputId": "b98cb404-ff25-4066-d336-c72ca30f523b"
      },
      "source": [
        "start_time = datetime.now() \n",
        "trainX_building, trainY_building  = dataset_extraction(\"/content/drive/My Drive/seg_test/seg_test/buildings/\",0)\n",
        "trainX_forest,trainY_forest  = dataset_extraction(\"/content/drive/My Drive/seg_test/seg_test/forest/\",1)\n",
        "trainX_glacier,trainY_glacier  = dataset_extraction(\"/content/drive/My Drive/seg_test/seg_test/glacier/\",2)\n",
        "trainX_mount,trainY_mount  = dataset_extraction(\"/content/drive/My Drive/seg_test/seg_test/mountain/\",3)\n",
        "trainX_sea,trainY_sea  = dataset_extraction(\"/content/drive/My Drive/seg_test/seg_test/sea/\",4)\n",
        "trainX_street,trainY_street  =  dataset_extraction(\"/content/drive/My Drive/seg_test/seg_test/street/\",5)\n",
        "\n",
        "print('Time taken to run this cell is  (hh:mm:ss.ms) {}'.format(datetime.now() - start_time))"
      ],
      "execution_count": 85,
      "outputs": [
        {
          "output_type": "stream",
          "text": [
            "Time taken to run this cell is  (hh:mm:ss.ms) 0:00:06.792926\n"
          ],
          "name": "stdout"
        }
      ]
    },
    {
      "cell_type": "code",
      "metadata": {
        "id": "KPI_yq5orNQY"
      },
      "source": [
        "import matplotlib.pyplot as plt \n",
        "%matplotlib inline\n",
        "\n",
        "import math \n",
        "from random import random \n",
        "\n",
        "from PIL import Image \n",
        "\n",
        "import copy "
      ],
      "execution_count": 86,
      "outputs": []
    },
    {
      "cell_type": "code",
      "metadata": {
        "colab": {
          "base_uri": "https://localhost:8080/"
        },
        "id": "boO3I-bjrNTi",
        "outputId": "a5a8ce77-c987-4740-b7c4-7771b04de204"
      },
      "source": [
        "trainX_building.shape , trainX_forest.shape , trainX_glacier.shape , trainX_mount.shape, trainX_sea.shape , trainX_street.shape   "
      ],
      "execution_count": 87,
      "outputs": [
        {
          "output_type": "execute_result",
          "data": {
            "text/plain": [
              "((437, 150, 150, 3),\n",
              " (474, 150, 150, 3),\n",
              " (553, 150, 150, 3),\n",
              " (525, 150, 150, 3),\n",
              " (510, 150, 150, 3),\n",
              " (501, 150, 150, 3))"
            ]
          },
          "metadata": {
            "tags": []
          },
          "execution_count": 87
        }
      ]
    },
    {
      "cell_type": "code",
      "metadata": {
        "id": "8ROAZ75yrNWG"
      },
      "source": [
        "a = [0 for i in range(400)]\n",
        "b = [0 for i in range(400)]\n",
        "c = [0 for i in range(400)]\n",
        "d = [0 for i in range(400)]\n",
        "e = [0 for i in range(400)]\n",
        "f = [0 for i in range(400)]"
      ],
      "execution_count": 88,
      "outputs": []
    },
    {
      "cell_type": "code",
      "metadata": {
        "id": "zBEcISDArNYy"
      },
      "source": [
        "trainX_forest = trainX_forest[:400]\n",
        "trainX_glacier = trainX_glacier[:400]\n",
        "trainX_mount = trainX_mount[:400]\n",
        "trainX_sea = trainX_sea[:400]\n",
        "trainX_street = trainX_street[:400]\n",
        "trainX_building = trainX_building[:400]"
      ],
      "execution_count": 89,
      "outputs": []
    },
    {
      "cell_type": "code",
      "metadata": {
        "id": "H13jhhMFrNb3"
      },
      "source": [
        "def conv_preprocess(input) :\n",
        "  a = conv2d(input,filter[2]) \n",
        "  #print(len(a))\n",
        "  b = conv2d(a,filter[3]) \n",
        "  #print(len(b))\n",
        "  c = pooling(np.array(b)) \n",
        "  #print(c.shape)\n",
        "  d = conv2d(c,filter[1])\n",
        "  #print(len(d))\n",
        "  e = conv2d(d,filter[0])\n",
        "  #print(len(e))\n",
        "  f = pooling(np.array(e)) \n",
        "  #print(f.shape)\n",
        "  f = np.array(f)\n",
        "  return f.flatten().reshape(f.shape[0]*f.shape[1]*f.shape[2])"
      ],
      "execution_count": 90,
      "outputs": []
    },
    {
      "cell_type": "code",
      "metadata": {
        "colab": {
          "base_uri": "https://localhost:8080/"
        },
        "id": "UW2v8Hp3vGI7",
        "outputId": "c1e5144c-91b4-458a-b9de-0d9b119f3965"
      },
      "source": [
        "for i in range(60) :\n",
        "  start_time = datetime.now() \n",
        "  a[i] = conv_preprocess(trainX_building[i])\n",
        "  b[i] = conv_preprocess(trainX_forest[i])\n",
        "  c[i] = conv_preprocess(trainX_glacier[i])\n",
        "  d[i] = conv_preprocess(trainX_mount[i])\n",
        "  e[i] = conv_preprocess(trainX_sea[i])\n",
        "  f[i] = conv_preprocess(trainX_street[i])\n",
        "  print('Time taken to run',i,\"th it is cell is  (hh:mm:ss.ms) {}\".format(datetime.now() - start_time))\n",
        "  \n"
      ],
      "execution_count": 91,
      "outputs": [
        {
          "output_type": "stream",
          "text": [
            "Time taken to run 0 th it is cell is  (hh:mm:ss.ms) 0:00:17.522326\n",
            "Time taken to run 1 th it is cell is  (hh:mm:ss.ms) 0:00:17.288946\n",
            "Time taken to run 2 th it is cell is  (hh:mm:ss.ms) 0:00:17.285798\n",
            "Time taken to run 3 th it is cell is  (hh:mm:ss.ms) 0:00:17.388451\n",
            "Time taken to run 4 th it is cell is  (hh:mm:ss.ms) 0:00:17.144666\n",
            "Time taken to run 5 th it is cell is  (hh:mm:ss.ms) 0:00:17.156473\n",
            "Time taken to run 6 th it is cell is  (hh:mm:ss.ms) 0:00:17.416469\n",
            "Time taken to run 7 th it is cell is  (hh:mm:ss.ms) 0:00:17.290905\n",
            "Time taken to run 8 th it is cell is  (hh:mm:ss.ms) 0:00:17.166975\n",
            "Time taken to run 9 th it is cell is  (hh:mm:ss.ms) 0:00:17.016257\n",
            "Time taken to run 10 th it is cell is  (hh:mm:ss.ms) 0:00:17.172613\n",
            "Time taken to run 11 th it is cell is  (hh:mm:ss.ms) 0:00:17.194268\n",
            "Time taken to run 12 th it is cell is  (hh:mm:ss.ms) 0:00:17.624867\n",
            "Time taken to run 13 th it is cell is  (hh:mm:ss.ms) 0:00:17.358125\n",
            "Time taken to run 14 th it is cell is  (hh:mm:ss.ms) 0:00:17.247184\n",
            "Time taken to run 15 th it is cell is  (hh:mm:ss.ms) 0:00:17.198403\n",
            "Time taken to run 16 th it is cell is  (hh:mm:ss.ms) 0:00:17.402321\n",
            "Time taken to run 17 th it is cell is  (hh:mm:ss.ms) 0:00:17.134284\n",
            "Time taken to run 18 th it is cell is  (hh:mm:ss.ms) 0:00:17.172610\n",
            "Time taken to run 19 th it is cell is  (hh:mm:ss.ms) 0:00:17.322780\n",
            "Time taken to run 20 th it is cell is  (hh:mm:ss.ms) 0:00:17.278656\n",
            "Time taken to run 21 th it is cell is  (hh:mm:ss.ms) 0:00:17.212482\n",
            "Time taken to run 22 th it is cell is  (hh:mm:ss.ms) 0:00:17.338606\n",
            "Time taken to run 23 th it is cell is  (hh:mm:ss.ms) 0:00:17.588601\n",
            "Time taken to run 24 th it is cell is  (hh:mm:ss.ms) 0:00:18.782290\n",
            "Time taken to run 25 th it is cell is  (hh:mm:ss.ms) 0:00:17.593890\n",
            "Time taken to run 26 th it is cell is  (hh:mm:ss.ms) 0:00:17.665808\n",
            "Time taken to run 27 th it is cell is  (hh:mm:ss.ms) 0:00:17.397496\n",
            "Time taken to run 28 th it is cell is  (hh:mm:ss.ms) 0:00:17.465936\n",
            "Time taken to run 29 th it is cell is  (hh:mm:ss.ms) 0:00:17.708968\n",
            "Time taken to run 30 th it is cell is  (hh:mm:ss.ms) 0:00:18.517443\n",
            "Time taken to run 31 th it is cell is  (hh:mm:ss.ms) 0:00:17.536286\n",
            "Time taken to run 32 th it is cell is  (hh:mm:ss.ms) 0:00:17.571100\n",
            "Time taken to run 33 th it is cell is  (hh:mm:ss.ms) 0:00:17.427807\n",
            "Time taken to run 34 th it is cell is  (hh:mm:ss.ms) 0:00:17.619097\n",
            "Time taken to run 35 th it is cell is  (hh:mm:ss.ms) 0:00:17.661401\n",
            "Time taken to run 36 th it is cell is  (hh:mm:ss.ms) 0:00:17.381462\n",
            "Time taken to run 37 th it is cell is  (hh:mm:ss.ms) 0:00:17.249135\n",
            "Time taken to run 38 th it is cell is  (hh:mm:ss.ms) 0:00:17.117445\n",
            "Time taken to run 39 th it is cell is  (hh:mm:ss.ms) 0:00:17.583239\n",
            "Time taken to run 40 th it is cell is  (hh:mm:ss.ms) 0:00:17.378995\n",
            "Time taken to run 41 th it is cell is  (hh:mm:ss.ms) 0:00:17.315164\n",
            "Time taken to run 42 th it is cell is  (hh:mm:ss.ms) 0:00:18.033620\n",
            "Time taken to run 43 th it is cell is  (hh:mm:ss.ms) 0:00:17.201270\n",
            "Time taken to run 44 th it is cell is  (hh:mm:ss.ms) 0:00:17.110663\n",
            "Time taken to run 45 th it is cell is  (hh:mm:ss.ms) 0:00:17.252325\n",
            "Time taken to run 46 th it is cell is  (hh:mm:ss.ms) 0:00:17.125772\n",
            "Time taken to run 47 th it is cell is  (hh:mm:ss.ms) 0:00:17.298586\n",
            "Time taken to run 48 th it is cell is  (hh:mm:ss.ms) 0:00:17.660519\n",
            "Time taken to run 49 th it is cell is  (hh:mm:ss.ms) 0:00:17.794178\n",
            "Time taken to run 50 th it is cell is  (hh:mm:ss.ms) 0:00:17.499579\n",
            "Time taken to run 51 th it is cell is  (hh:mm:ss.ms) 0:00:17.215893\n",
            "Time taken to run 52 th it is cell is  (hh:mm:ss.ms) 0:00:17.311642\n",
            "Time taken to run 53 th it is cell is  (hh:mm:ss.ms) 0:00:17.206312\n",
            "Time taken to run 54 th it is cell is  (hh:mm:ss.ms) 0:00:17.274576\n",
            "Time taken to run 55 th it is cell is  (hh:mm:ss.ms) 0:00:17.934585\n",
            "Time taken to run 56 th it is cell is  (hh:mm:ss.ms) 0:00:17.578134\n",
            "Time taken to run 57 th it is cell is  (hh:mm:ss.ms) 0:00:17.672949\n",
            "Time taken to run 58 th it is cell is  (hh:mm:ss.ms) 0:00:17.351192\n",
            "Time taken to run 59 th it is cell is  (hh:mm:ss.ms) 0:00:17.482509\n"
          ],
          "name": "stdout"
        }
      ]
    },
    {
      "cell_type": "code",
      "metadata": {
        "id": "LtEgMY-AvGMC"
      },
      "source": [
        ""
      ],
      "execution_count": 91,
      "outputs": []
    },
    {
      "cell_type": "code",
      "metadata": {
        "colab": {
          "base_uri": "https://localhost:8080/"
        },
        "id": "IJdcTn_LvGOg",
        "outputId": "893bee84-a8b4-429e-f887-4c6e478de098"
      },
      "source": [
        "a[0].shape "
      ],
      "execution_count": 92,
      "outputs": [
        {
          "output_type": "execute_result",
          "data": {
            "text/plain": [
              "(3072,)"
            ]
          },
          "metadata": {
            "tags": []
          },
          "execution_count": 92
        }
      ]
    },
    {
      "cell_type": "code",
      "metadata": {
        "id": "czfxy9xFyudj"
      },
      "source": [
        "output= [[1,0,0,0,0,0],[0,1,0,0,0,0],[0,0,1,0,0,0],[0,0,0,1,0,0],[0,0,0,0,1,0],[0,0,0,0,0,1]]"
      ],
      "execution_count": 93,
      "outputs": []
    },
    {
      "cell_type": "code",
      "metadata": {
        "id": "rWQs55Bnyug5"
      },
      "source": [
        "model = Model()"
      ],
      "execution_count": 112,
      "outputs": []
    },
    {
      "cell_type": "code",
      "metadata": {
        "id": "_25qGgx6yuka"
      },
      "source": [
        "model.add(512,3072,'ReLU')\n",
        "model.add(70,512,'ReLU')\n",
        "model.add(6,70,'softmax')"
      ],
      "execution_count": 113,
      "outputs": []
    },
    {
      "cell_type": "code",
      "metadata": {
        "colab": {
          "base_uri": "https://localhost:8080/"
        },
        "id": "4BKnFs6RyunY",
        "outputId": "355f27e8-0ab6-4eca-a869-a411755e6249"
      },
      "source": [
        "bias = 1\n",
        "epoch = 1\n",
        "learning_rate = 0.1\n",
        "print(model.it)"
      ],
      "execution_count": 114,
      "outputs": [
        {
          "output_type": "stream",
          "text": [
            "3\n"
          ],
          "name": "stdout"
        }
      ]
    },
    {
      "cell_type": "code",
      "metadata": {
        "colab": {
          "base_uri": "https://localhost:8080/"
        },
        "id": "rwKycUbIyupm",
        "outputId": "62f12b8c-e419-4723-88a3-2e0a956d1170"
      },
      "source": [
        "model.network[2][1]"
      ],
      "execution_count": 115,
      "outputs": [
        {
          "output_type": "execute_result",
          "data": {
            "text/plain": [
              "[0.15672002541408303,\n",
              " 0.9710764317229573,\n",
              " 0.9606846433794751,\n",
              " 0.7610539667258922,\n",
              " 0.6955036650433859,\n",
              " 0.0824077511087048]"
            ]
          },
          "metadata": {
            "tags": []
          },
          "execution_count": 115
        }
      ]
    },
    {
      "cell_type": "code",
      "metadata": {
        "colab": {
          "base_uri": "https://localhost:8080/"
        },
        "id": "e1i5hocZyuvA",
        "outputId": "704729fb-b068-4849-c410-debdb54bdf5b"
      },
      "source": [
        "model.network , error = train(model.network,output,bias,learning_rate,model.it,epoch,50)"
      ],
      "execution_count": 116,
      "outputs": [
        {
          "output_type": "stream",
          "text": [
            "Image number  0  done\n",
            "Time taken to run Image  0  is  (hh:mm:ss.ms) 0:00:08.917988\n",
            "[1.8311155579914248e-17, 0.000391388269174158, 0.9994976838074741, 0.00011069912441054445, 1.1193579201016675e-09, 2.2767958334570864e-07]\n",
            "Image number  1  done\n",
            "Time taken to run Image  1  is  (hh:mm:ss.ms) 0:00:08.813674\n",
            "[7.412357897262175e-21, 3.592136231692275e-09, 0.999964868755059, 3.3480852359469645e-05, 6.826718835355467e-14, 1.6468003771781116e-06]\n",
            "Image number  2  done\n",
            "Time taken to run Image  2  is  (hh:mm:ss.ms) 0:00:08.834614\n",
            "[1.8319654419320438e-14, 6.427294292892214e-10, 0.9999836675920025, 1.6326868168135813e-05, 2.0384461006979297e-13, 4.896877830735205e-09]\n",
            "Image number  3  done\n",
            "Time taken to run Image  3  is  (hh:mm:ss.ms) 0:00:08.845689\n",
            "[1.1233285092161568e-05, 0.0011318838981297786, 0.9818561652416964, 0.016053716097233675, 0.00017101005190852157, 0.0007759914259395438]\n",
            "Image number  4  done\n",
            "Time taken to run Image  4  is  (hh:mm:ss.ms) 0:00:13.218095\n",
            "[3.619643278612383e-06, 0.0005038437992836011, 0.29882939023732574, 0.6870088756755013, 0.012950244462407822, 0.0007040261822031463]\n",
            "Image number  5  done\n",
            "Time taken to run Image  5  is  (hh:mm:ss.ms) 0:00:08.830371\n",
            "[1.1753419544823152e-05, 0.035133176361549334, 0.9203495826062513, 0.038822016515687216, 0.0011866932169906541, 0.004496777879976648]\n",
            "Image number  6  done\n",
            "Time taken to run Image  6  is  (hh:mm:ss.ms) 0:00:08.809447\n",
            "[8.131300428339223e-05, 0.03919448652377181, 0.8492362281839823, 0.07598057924728271, 0.029090221121350658, 0.006417171919328873]\n",
            "Image number  7  done\n",
            "Time taken to run Image  7  is  (hh:mm:ss.ms) 0:00:08.868737\n",
            "[1.3910497610315955e-05, 0.035762439811481986, 0.5747110742333876, 0.36827269458926803, 0.0003709444289456026, 0.020868936439306335]\n",
            "Image number  8  done\n",
            "Time taken to run Image  8  is  (hh:mm:ss.ms) 0:00:08.915088\n",
            "[1.890265287653641e-05, 0.00026751039837038637, 0.9831212104116084, 0.01134388693769955, 0.0004097097370743324, 0.004838779862370728]\n",
            "Image number  9  done\n",
            "Time taken to run Image  9  is  (hh:mm:ss.ms) 0:00:08.878686\n",
            "[3.3550718656874606e-05, 0.001955683053798149, 0.9492771818108932, 0.02496503471896019, 0.0008520446324009639, 0.022916505065290714]\n",
            "Image number  10  done\n",
            "Time taken to run Image  10  is  (hh:mm:ss.ms) 0:00:08.879187\n",
            "[5.767136202217467e-06, 0.013287852621163365, 0.9842520655116465, 0.0014319607104569094, 0.00038191581206553117, 0.0006404382084655584]\n",
            "Image number  11  done\n",
            "Time taken to run Image  11  is  (hh:mm:ss.ms) 0:00:08.878616\n",
            "[2.4594193893206773e-07, 0.015016355427517662, 0.9360565049871207, 0.04863227414286549, 2.4006458034526913e-05, 0.00027061304252272704]\n",
            "Image number  12  done\n",
            "Time taken to run Image  12  is  (hh:mm:ss.ms) 0:00:08.897355\n",
            "[4.566959789429754e-05, 0.006972704471932205, 0.6823333614479654, 0.3079247888441913, 0.0012101239283289615, 0.0015133517096876815]\n",
            "Image number  13  done\n",
            "Time taken to run Image  13  is  (hh:mm:ss.ms) 0:00:09.015561\n",
            "[0.001022698370509606, 0.29511031841677365, 0.4459240308403021, 0.2002707839793703, 0.02193378611403267, 0.03573838227901156]\n",
            "Image number  14  done\n",
            "Time taken to run Image  14  is  (hh:mm:ss.ms) 0:00:08.920609\n",
            "[0.00010346883772944157, 5.7741297745687414e-05, 0.9711914902148863, 0.022185138781411522, 9.954513091499679e-05, 0.006362615737312075]\n",
            "Image number  15  done\n",
            "Time taken to run Image  15  is  (hh:mm:ss.ms) 0:00:08.863576\n",
            "[1.8776213753372225e-09, 0.0003842425381911065, 0.999564303508059, 1.0758496922917824e-05, 3.3684682889621664e-07, 4.035673237680658e-05]\n",
            "Image number  16  done\n",
            "Time taken to run Image  16  is  (hh:mm:ss.ms) 0:00:08.916011\n",
            "[6.979109752492056e-05, 0.0012540449258674371, 0.5415657405166975, 0.42832032492481414, 0.0053209158588027935, 0.02346918267629311]\n",
            "Image number  17  done\n",
            "Time taken to run Image  17  is  (hh:mm:ss.ms) 0:00:08.842102\n",
            "[0.0006029502692177253, 0.001172302604203227, 0.5015739794150236, 0.48714539209537366, 0.008683264051538896, 0.0008221115646430023]\n",
            "Image number  18  done\n",
            "Time taken to run Image  18  is  (hh:mm:ss.ms) 0:00:08.917129\n",
            "[0.0007081462549734213, 0.009512627032381158, 0.7650923234581501, 0.2159625442434766, 0.00116887753456589, 0.0075554814764527975]\n",
            "Image number  19  done\n",
            "Time taken to run Image  19  is  (hh:mm:ss.ms) 0:00:08.868297\n",
            "[7.607281595082439e-07, 4.8394831006116626e-05, 0.5508608234418678, 0.4489466017135927, 0.00011756993507650005, 2.5849350297472716e-05]\n",
            "Image number  20  done\n",
            "Time taken to run Image  20  is  (hh:mm:ss.ms) 0:00:08.906472\n",
            "[1.9166993280944558e-05, 0.07751658051219197, 0.5553988985421248, 0.2623778291973361, 0.09339015365741839, 0.011297371097647778]\n",
            "Image number  21  done\n",
            "Time taken to run Image  21  is  (hh:mm:ss.ms) 0:00:08.929633\n",
            "[8.682908380372664e-07, 0.007121190360421723, 0.9441179484776817, 0.045569656485557435, 0.001289545859461531, 0.0019007905260395028]\n",
            "Image number  22  done\n",
            "Time taken to run Image  22  is  (hh:mm:ss.ms) 0:00:08.911810\n",
            "[0.00032056040153863666, 0.00031704211441799593, 0.16956390506048402, 0.5811038950647098, 0.2153805626309408, 0.03331403472790864]\n",
            "Image number  23  done\n",
            "Time taken to run Image  23  is  (hh:mm:ss.ms) 0:00:08.904949\n",
            "[9.286423655660163e-05, 0.004068254840709032, 0.9068822350151375, 0.03122717311419806, 0.028116325656044532, 0.02961314713735406]\n",
            "Image number  24  done\n",
            "Time taken to run Image  24  is  (hh:mm:ss.ms) 0:00:08.908933\n",
            "[7.598504533712007e-05, 0.1193505088485072, 0.5401877260623774, 0.3355958949203619, 0.0025556410701091025, 0.0022342440533071775]\n",
            "Image number  25  done\n",
            "Time taken to run Image  25  is  (hh:mm:ss.ms) 0:00:08.885365\n",
            "[0.00010793317524713137, 0.02730681519001806, 0.708504839764243, 0.2565677940425893, 0.003342675070626299, 0.004169942757275944]\n",
            "Image number  26  done\n",
            "Time taken to run Image  26  is  (hh:mm:ss.ms) 0:00:08.877167\n",
            "[5.332673596196226e-07, 0.0052914832677445605, 0.009143070291394285, 0.9671854738657751, 0.01824092300725323, 0.0001385163004731359]\n",
            "Image number  27  done\n",
            "Time taken to run Image  27  is  (hh:mm:ss.ms) 0:00:08.905360\n",
            "[8.80881732116064e-06, 0.019040230740517406, 0.09022060535907266, 0.8892646520925903, 0.0011009272480252746, 0.00036477574247312786]\n",
            "Image number  28  done\n",
            "Time taken to run Image  28  is  (hh:mm:ss.ms) 0:00:08.886115\n",
            "[2.957038559412387e-05, 0.0076784234057989224, 0.8379542185090614, 0.132000629460259, 0.0025470537517499926, 0.01979010448753673]\n",
            "Image number  29  done\n",
            "Time taken to run Image  29  is  (hh:mm:ss.ms) 0:00:09.069262\n",
            "[0.00015685139271638944, 0.05713704948018929, 0.8668721245136394, 0.07103802634020816, 0.001863976879083428, 0.002931971394163396]\n",
            "Image number  30  done\n",
            "Time taken to run Image  30  is  (hh:mm:ss.ms) 0:00:08.996679\n",
            "[9.260249964590225e-05, 0.00857998129979709, 0.3163300414327659, 0.6389397163093545, 0.018304828417484282, 0.017752830040952294]\n",
            "Image number  31  done\n",
            "Time taken to run Image  31  is  (hh:mm:ss.ms) 0:00:08.920868\n",
            "[3.467468132513926e-07, 0.00034642307333028645, 0.9870885788534545, 0.011933218151891425, 0.0004656143325067656, 0.0001658188420038692]\n",
            "Image number  32  done\n",
            "Time taken to run Image  32  is  (hh:mm:ss.ms) 0:00:08.944303\n",
            "[8.850530288213862e-05, 0.008747939242786657, 0.6520893548583786, 0.3083847369580965, 0.009914202126926234, 0.020775261510930062]\n",
            "Image number  33  done\n",
            "Time taken to run Image  33  is  (hh:mm:ss.ms) 0:00:08.915534\n",
            "[0.0001745728689920345, 0.12550291717780732, 0.6763656129926331, 0.1839887272523676, 0.0016181077258933198, 0.012350061982306558]\n",
            "Image number  34  done\n",
            "Time taken to run Image  34  is  (hh:mm:ss.ms) 0:00:08.949054\n",
            "[0.0003291004560051401, 0.044686147352102704, 0.165996213999827, 0.6759313075490757, 0.09080180460614927, 0.02225542603684019]\n",
            "Image number  35  done\n",
            "Time taken to run Image  35  is  (hh:mm:ss.ms) 0:00:08.978357\n",
            "[1.0575708427704691e-07, 0.00023177776705701875, 0.9822364450819756, 0.001893334002801322, 3.715695356939487e-05, 0.015601180437512335]\n",
            "Image number  36  done\n",
            "Time taken to run Image  36  is  (hh:mm:ss.ms) 0:00:09.131155\n",
            "[3.475090000845705e-06, 0.0002961846147226773, 0.7911745788524195, 0.20821822556721267, 0.0002653305987758081, 4.220527686849209e-05]\n",
            "Image number  37  done\n",
            "Time taken to run Image  37  is  (hh:mm:ss.ms) 0:00:09.109988\n",
            "[0.0001307759306509338, 0.008530147710183988, 0.8783183330537581, 0.10615445033206893, 0.006339055882098222, 0.0005272370912398207]\n",
            "Image number  38  done\n",
            "Time taken to run Image  38  is  (hh:mm:ss.ms) 0:00:09.107181\n",
            "[0.0007394953298324255, 0.06426591101694812, 0.3045693518345658, 0.24909514940985295, 0.0020196290301872713, 0.3793104633786135]\n",
            "Image number  39  done\n",
            "Time taken to run Image  39  is  (hh:mm:ss.ms) 0:00:08.993158\n",
            "[0.0007310614590871318, 0.263264956771299, 0.43478071003212304, 0.26681330732501835, 0.006747742587460651, 0.027662221825011973]\n",
            "Image number  40  done\n",
            "Time taken to run Image  40  is  (hh:mm:ss.ms) 0:00:08.959268\n",
            "[6.697461166068689e-05, 0.0010836372556526491, 0.9798625857290333, 0.011284206560550802, 0.00041925650728238684, 0.00728333933582024]\n",
            "Image number  41  done\n",
            "Time taken to run Image  41  is  (hh:mm:ss.ms) 0:00:08.962689\n",
            "[6.478638722058184e-07, 0.009264152255688551, 0.958556846585706, 0.03194707015491073, 4.764954755325509e-05, 0.00018363359226910385]\n",
            "Image number  42  done\n",
            "Time taken to run Image  42  is  (hh:mm:ss.ms) 0:00:09.071122\n",
            "[9.518691346500124e-05, 0.23677604688763393, 0.6206771424676812, 0.07005241260406335, 0.008689479045487095, 0.06370973208166941]\n",
            "Image number  43  done\n",
            "Time taken to run Image  43  is  (hh:mm:ss.ms) 0:00:08.966440\n",
            "[0.000870577886931213, 0.18720095428223715, 0.19794036905395287, 0.5777592513942086, 0.03289763657932509, 0.0033312108033450335]\n",
            "Image number  44  done\n",
            "Time taken to run Image  44  is  (hh:mm:ss.ms) 0:00:08.984375\n",
            "[1.4513327598104346e-05, 0.0010816967429616122, 0.8760538156173321, 0.09974771450369141, 0.009439410049831518, 0.013662849758585359]\n",
            "Image number  45  done\n",
            "Time taken to run Image  45  is  (hh:mm:ss.ms) 0:00:09.035711\n",
            "[0.00028677669956633903, 0.004062883002361129, 0.9497393975187303, 0.0340053381427512, 0.0015609026418319312, 0.010344701994759104]\n",
            "Image number  46  done\n",
            "Time taken to run Image  46  is  (hh:mm:ss.ms) 0:00:08.957739\n",
            "[3.881241260231193e-05, 0.03059406330416108, 0.7664268246845838, 0.20131185960077608, 0.0007721357213490501, 0.0008563042765277557]\n",
            "Image number  47  done\n",
            "Time taken to run Image  47  is  (hh:mm:ss.ms) 0:00:09.055693\n",
            "[0.0010234403708886037, 0.0005750619443687705, 0.04226890049610649, 0.9473032590407265, 0.006816606925011941, 0.002012731222897936]\n",
            "Image number  48  done\n",
            "Time taken to run Image  48  is  (hh:mm:ss.ms) 0:00:09.110539\n",
            "[7.461992958391798e-05, 0.001542194279121004, 0.1284546719813655, 0.8687513915816109, 0.00015249151638180726, 0.0010246307119370155]\n",
            "Image number  49  done\n",
            "Time taken to run Image  49  is  (hh:mm:ss.ms) 0:00:08.983851\n",
            "[0.00021863800010565063, 0.026383338211936593, 0.19387206403385387, 0.7457344303657286, 0.03344270016562178, 0.0003488292227533591]\n"
          ],
          "name": "stdout"
        }
      ]
    },
    {
      "cell_type": "code",
      "metadata": {
        "id": "KR5Fi8eRyuyC"
      },
      "source": [
        ""
      ],
      "execution_count": 98,
      "outputs": []
    },
    {
      "cell_type": "code",
      "metadata": {
        "id": "17YvoHV0yu1F"
      },
      "source": [
        "def test_acc(list,network,bias,it):\n",
        "  output = [0,0,0,0,0,0] \n",
        "  for i in range(20) :\n",
        "    start_time = datetime.now() \n",
        "    ans = predict(network,list[i],bias,it)\n",
        "    max = 0 \n",
        "    max_ind = -1 \n",
        "    for j in range(6) :\n",
        "      if(ans[j] > max) :\n",
        "        max = ans[j] \n",
        "        max_ind = j \n",
        "\n",
        "    output[max_ind]+=1 \n",
        "    print('Time taken to run',i,\"th it is cell is  (hh:mm:ss.ms) {}\".format(datetime.now() - start_time))\n",
        "\n",
        "  return output "
      ],
      "execution_count": 124,
      "outputs": []
    },
    {
      "cell_type": "code",
      "metadata": {
        "colab": {
          "base_uri": "https://localhost:8080/"
        },
        "id": "FF3Hiq4uL9Ev",
        "outputId": "d76d9621-ec8f-4bfc-86f9-546c349cceb2"
      },
      "source": [
        "OUT_A = test_acc(a,model.network,bias,model.it)"
      ],
      "execution_count": 125,
      "outputs": [
        {
          "output_type": "stream",
          "text": [
            "Time taken to run 0 th it is cell is  (hh:mm:ss.ms) 0:00:05.121190\n",
            "Time taken to run 1 th it is cell is  (hh:mm:ss.ms) 0:00:04.931980\n",
            "Time taken to run 2 th it is cell is  (hh:mm:ss.ms) 0:00:04.969014\n",
            "Time taken to run 3 th it is cell is  (hh:mm:ss.ms) 0:00:04.934047\n",
            "Time taken to run 4 th it is cell is  (hh:mm:ss.ms) 0:00:05.040240\n",
            "Time taken to run 5 th it is cell is  (hh:mm:ss.ms) 0:00:04.987650\n",
            "Time taken to run 6 th it is cell is  (hh:mm:ss.ms) 0:00:04.991987\n",
            "Time taken to run 7 th it is cell is  (hh:mm:ss.ms) 0:00:04.941968\n",
            "Time taken to run 8 th it is cell is  (hh:mm:ss.ms) 0:00:04.979262\n",
            "Time taken to run 9 th it is cell is  (hh:mm:ss.ms) 0:00:04.901932\n",
            "Time taken to run 10 th it is cell is  (hh:mm:ss.ms) 0:00:04.780412\n",
            "Time taken to run 11 th it is cell is  (hh:mm:ss.ms) 0:00:04.993221\n",
            "Time taken to run 12 th it is cell is  (hh:mm:ss.ms) 0:00:04.901284\n",
            "Time taken to run 13 th it is cell is  (hh:mm:ss.ms) 0:00:05.087069\n",
            "Time taken to run 14 th it is cell is  (hh:mm:ss.ms) 0:00:05.085212\n",
            "Time taken to run 15 th it is cell is  (hh:mm:ss.ms) 0:00:05.020282\n",
            "Time taken to run 16 th it is cell is  (hh:mm:ss.ms) 0:00:05.161864\n",
            "Time taken to run 17 th it is cell is  (hh:mm:ss.ms) 0:00:05.021638\n",
            "Time taken to run 18 th it is cell is  (hh:mm:ss.ms) 0:00:04.918466\n",
            "Time taken to run 19 th it is cell is  (hh:mm:ss.ms) 0:00:04.959694\n"
          ],
          "name": "stdout"
        }
      ]
    },
    {
      "cell_type": "code",
      "metadata": {
        "colab": {
          "base_uri": "https://localhost:8080/"
        },
        "id": "QyNrLYGVyu45",
        "outputId": "42a2aa71-4613-42b3-ba8b-6851aee3bad1"
      },
      "source": [
        "OUT_A"
      ],
      "execution_count": 126,
      "outputs": [
        {
          "output_type": "execute_result",
          "data": {
            "text/plain": [
              "[0, 0, 13, 7, 0, 0]"
            ]
          },
          "metadata": {
            "tags": []
          },
          "execution_count": 126
        }
      ]
    },
    {
      "cell_type": "code",
      "metadata": {
        "colab": {
          "base_uri": "https://localhost:8080/"
        },
        "id": "_GD0DP-hyu69",
        "outputId": "1bccbfaf-f6d7-4ac4-9b83-0bfc7465391a"
      },
      "source": [
        "OUT_B = test_acc(b,model.network,bias,model.it)"
      ],
      "execution_count": 127,
      "outputs": [
        {
          "output_type": "stream",
          "text": [
            "Time taken to run 0 th it is cell is  (hh:mm:ss.ms) 0:00:04.962470\n",
            "Time taken to run 1 th it is cell is  (hh:mm:ss.ms) 0:00:04.972620\n",
            "Time taken to run 2 th it is cell is  (hh:mm:ss.ms) 0:00:04.748302\n",
            "Time taken to run 3 th it is cell is  (hh:mm:ss.ms) 0:00:04.933569\n",
            "Time taken to run 4 th it is cell is  (hh:mm:ss.ms) 0:00:04.851128\n",
            "Time taken to run 5 th it is cell is  (hh:mm:ss.ms) 0:00:05.009377\n",
            "Time taken to run 6 th it is cell is  (hh:mm:ss.ms) 0:00:04.992210\n",
            "Time taken to run 7 th it is cell is  (hh:mm:ss.ms) 0:00:04.927901\n",
            "Time taken to run 8 th it is cell is  (hh:mm:ss.ms) 0:00:04.944490\n",
            "Time taken to run 9 th it is cell is  (hh:mm:ss.ms) 0:00:04.926034\n",
            "Time taken to run 10 th it is cell is  (hh:mm:ss.ms) 0:00:04.874059\n",
            "Time taken to run 11 th it is cell is  (hh:mm:ss.ms) 0:00:04.721220\n",
            "Time taken to run 12 th it is cell is  (hh:mm:ss.ms) 0:00:04.926759\n",
            "Time taken to run 13 th it is cell is  (hh:mm:ss.ms) 0:00:04.948204\n",
            "Time taken to run 14 th it is cell is  (hh:mm:ss.ms) 0:00:04.932456\n",
            "Time taken to run 15 th it is cell is  (hh:mm:ss.ms) 0:00:04.908769\n",
            "Time taken to run 16 th it is cell is  (hh:mm:ss.ms) 0:00:04.927083\n",
            "Time taken to run 17 th it is cell is  (hh:mm:ss.ms) 0:00:04.912037\n",
            "Time taken to run 18 th it is cell is  (hh:mm:ss.ms) 0:00:04.940203\n",
            "Time taken to run 19 th it is cell is  (hh:mm:ss.ms) 0:00:04.926637\n"
          ],
          "name": "stdout"
        }
      ]
    },
    {
      "cell_type": "code",
      "metadata": {
        "colab": {
          "base_uri": "https://localhost:8080/"
        },
        "id": "1CvKlPoLyu9i",
        "outputId": "f36ce692-2763-47ad-8e1e-f97a1afd2a48"
      },
      "source": [
        "OUT_C = test_acc(c,model.network,bias,model.it)"
      ],
      "execution_count": 128,
      "outputs": [
        {
          "output_type": "stream",
          "text": [
            "Time taken to run 0 th it is cell is  (hh:mm:ss.ms) 0:00:04.988882\n",
            "Time taken to run 1 th it is cell is  (hh:mm:ss.ms) 0:00:04.949644\n",
            "Time taken to run 2 th it is cell is  (hh:mm:ss.ms) 0:00:04.981273\n",
            "Time taken to run 3 th it is cell is  (hh:mm:ss.ms) 0:00:04.697048\n",
            "Time taken to run 4 th it is cell is  (hh:mm:ss.ms) 0:00:04.926820\n",
            "Time taken to run 5 th it is cell is  (hh:mm:ss.ms) 0:00:04.912323\n",
            "Time taken to run 6 th it is cell is  (hh:mm:ss.ms) 0:00:04.926705\n",
            "Time taken to run 7 th it is cell is  (hh:mm:ss.ms) 0:00:04.892111\n",
            "Time taken to run 8 th it is cell is  (hh:mm:ss.ms) 0:00:04.928360\n",
            "Time taken to run 9 th it is cell is  (hh:mm:ss.ms) 0:00:04.828006\n",
            "Time taken to run 10 th it is cell is  (hh:mm:ss.ms) 0:00:04.884306\n",
            "Time taken to run 11 th it is cell is  (hh:mm:ss.ms) 0:00:04.913995\n",
            "Time taken to run 12 th it is cell is  (hh:mm:ss.ms) 0:00:04.998892\n",
            "Time taken to run 13 th it is cell is  (hh:mm:ss.ms) 0:00:04.918875\n",
            "Time taken to run 14 th it is cell is  (hh:mm:ss.ms) 0:00:04.894873\n",
            "Time taken to run 15 th it is cell is  (hh:mm:ss.ms) 0:00:04.845997\n",
            "Time taken to run 16 th it is cell is  (hh:mm:ss.ms) 0:00:04.701433\n",
            "Time taken to run 17 th it is cell is  (hh:mm:ss.ms) 0:00:04.951914\n",
            "Time taken to run 18 th it is cell is  (hh:mm:ss.ms) 0:00:04.902153\n",
            "Time taken to run 19 th it is cell is  (hh:mm:ss.ms) 0:00:04.963750\n"
          ],
          "name": "stdout"
        }
      ]
    },
    {
      "cell_type": "code",
      "metadata": {
        "colab": {
          "base_uri": "https://localhost:8080/"
        },
        "id": "4YkMD9beyvAE",
        "outputId": "4721bb8c-4fc8-444c-8261-85a5f39a8703"
      },
      "source": [
        "OUT_D = test_acc(d,model.network,bias,model.it)"
      ],
      "execution_count": 129,
      "outputs": [
        {
          "output_type": "stream",
          "text": [
            "Time taken to run 0 th it is cell is  (hh:mm:ss.ms) 0:00:04.916111\n",
            "Time taken to run 1 th it is cell is  (hh:mm:ss.ms) 0:00:04.884614\n",
            "Time taken to run 2 th it is cell is  (hh:mm:ss.ms) 0:00:04.903179\n",
            "Time taken to run 3 th it is cell is  (hh:mm:ss.ms) 0:00:04.903222\n",
            "Time taken to run 4 th it is cell is  (hh:mm:ss.ms) 0:00:04.950629\n",
            "Time taken to run 5 th it is cell is  (hh:mm:ss.ms) 0:00:04.931814\n",
            "Time taken to run 6 th it is cell is  (hh:mm:ss.ms) 0:00:05.081465\n",
            "Time taken to run 7 th it is cell is  (hh:mm:ss.ms) 0:00:05.047935\n",
            "Time taken to run 8 th it is cell is  (hh:mm:ss.ms) 0:00:04.750874\n",
            "Time taken to run 9 th it is cell is  (hh:mm:ss.ms) 0:00:04.921081\n",
            "Time taken to run 10 th it is cell is  (hh:mm:ss.ms) 0:00:04.949770\n",
            "Time taken to run 11 th it is cell is  (hh:mm:ss.ms) 0:00:04.949338\n",
            "Time taken to run 12 th it is cell is  (hh:mm:ss.ms) 0:00:04.903993\n",
            "Time taken to run 13 th it is cell is  (hh:mm:ss.ms) 0:00:04.919332\n",
            "Time taken to run 14 th it is cell is  (hh:mm:ss.ms) 0:00:04.827632\n",
            "Time taken to run 15 th it is cell is  (hh:mm:ss.ms) 0:00:04.928755\n",
            "Time taken to run 16 th it is cell is  (hh:mm:ss.ms) 0:00:04.960746\n",
            "Time taken to run 17 th it is cell is  (hh:mm:ss.ms) 0:00:04.944456\n",
            "Time taken to run 18 th it is cell is  (hh:mm:ss.ms) 0:00:04.902844\n",
            "Time taken to run 19 th it is cell is  (hh:mm:ss.ms) 0:00:04.934747\n"
          ],
          "name": "stdout"
        }
      ]
    },
    {
      "cell_type": "code",
      "metadata": {
        "id": "JdWMZodWyvCN",
        "colab": {
          "base_uri": "https://localhost:8080/"
        },
        "outputId": "7276f951-32b3-42b7-9459-7672c1ca39b5"
      },
      "source": [
        "OUT_E = test_acc(e,model.network,bias,model.it)"
      ],
      "execution_count": 130,
      "outputs": [
        {
          "output_type": "stream",
          "text": [
            "Time taken to run 0 th it is cell is  (hh:mm:ss.ms) 0:00:04.926759\n",
            "Time taken to run 1 th it is cell is  (hh:mm:ss.ms) 0:00:04.706388\n",
            "Time taken to run 2 th it is cell is  (hh:mm:ss.ms) 0:00:05.002232\n",
            "Time taken to run 3 th it is cell is  (hh:mm:ss.ms) 0:00:04.908803\n",
            "Time taken to run 4 th it is cell is  (hh:mm:ss.ms) 0:00:04.967283\n",
            "Time taken to run 5 th it is cell is  (hh:mm:ss.ms) 0:00:04.881729\n",
            "Time taken to run 6 th it is cell is  (hh:mm:ss.ms) 0:00:05.043970\n",
            "Time taken to run 7 th it is cell is  (hh:mm:ss.ms) 0:00:04.999440\n",
            "Time taken to run 8 th it is cell is  (hh:mm:ss.ms) 0:00:04.999446\n",
            "Time taken to run 9 th it is cell is  (hh:mm:ss.ms) 0:00:04.955149\n",
            "Time taken to run 10 th it is cell is  (hh:mm:ss.ms) 0:00:05.020254\n",
            "Time taken to run 11 th it is cell is  (hh:mm:ss.ms) 0:00:04.987357\n",
            "Time taken to run 12 th it is cell is  (hh:mm:ss.ms) 0:00:04.958868\n",
            "Time taken to run 13 th it is cell is  (hh:mm:ss.ms) 0:00:04.749599\n",
            "Time taken to run 14 th it is cell is  (hh:mm:ss.ms) 0:00:04.944491\n",
            "Time taken to run 15 th it is cell is  (hh:mm:ss.ms) 0:00:04.939949\n",
            "Time taken to run 16 th it is cell is  (hh:mm:ss.ms) 0:00:04.952248\n",
            "Time taken to run 17 th it is cell is  (hh:mm:ss.ms) 0:00:04.947789\n",
            "Time taken to run 18 th it is cell is  (hh:mm:ss.ms) 0:00:04.900115\n",
            "Time taken to run 19 th it is cell is  (hh:mm:ss.ms) 0:00:04.923460\n"
          ],
          "name": "stdout"
        }
      ]
    },
    {
      "cell_type": "code",
      "metadata": {
        "colab": {
          "base_uri": "https://localhost:8080/"
        },
        "id": "36P40zYoyvFl",
        "outputId": "e4361790-d520-45a1-a397-30bd22c10876"
      },
      "source": [
        "OUT_F = test_acc(f,model.network,bias,model.it)"
      ],
      "execution_count": 131,
      "outputs": [
        {
          "output_type": "stream",
          "text": [
            "Time taken to run 0 th it is cell is  (hh:mm:ss.ms) 0:00:04.983867\n",
            "Time taken to run 1 th it is cell is  (hh:mm:ss.ms) 0:00:04.923034\n",
            "Time taken to run 2 th it is cell is  (hh:mm:ss.ms) 0:00:04.906402\n",
            "Time taken to run 3 th it is cell is  (hh:mm:ss.ms) 0:00:04.954932\n",
            "Time taken to run 4 th it is cell is  (hh:mm:ss.ms) 0:00:04.945536\n",
            "Time taken to run 5 th it is cell is  (hh:mm:ss.ms) 0:00:04.908704\n",
            "Time taken to run 6 th it is cell is  (hh:mm:ss.ms) 0:00:04.697621\n",
            "Time taken to run 7 th it is cell is  (hh:mm:ss.ms) 0:00:04.943717\n",
            "Time taken to run 8 th it is cell is  (hh:mm:ss.ms) 0:00:04.945769\n",
            "Time taken to run 9 th it is cell is  (hh:mm:ss.ms) 0:00:04.908300\n",
            "Time taken to run 10 th it is cell is  (hh:mm:ss.ms) 0:00:04.929312\n",
            "Time taken to run 11 th it is cell is  (hh:mm:ss.ms) 0:00:04.925730\n",
            "Time taken to run 12 th it is cell is  (hh:mm:ss.ms) 0:00:04.912964\n",
            "Time taken to run 13 th it is cell is  (hh:mm:ss.ms) 0:00:04.895371\n",
            "Time taken to run 14 th it is cell is  (hh:mm:ss.ms) 0:00:04.919902\n",
            "Time taken to run 15 th it is cell is  (hh:mm:ss.ms) 0:00:04.908713\n",
            "Time taken to run 16 th it is cell is  (hh:mm:ss.ms) 0:00:04.949627\n",
            "Time taken to run 17 th it is cell is  (hh:mm:ss.ms) 0:00:04.906825\n",
            "Time taken to run 18 th it is cell is  (hh:mm:ss.ms) 0:00:04.721812\n",
            "Time taken to run 19 th it is cell is  (hh:mm:ss.ms) 0:00:04.901328\n"
          ],
          "name": "stdout"
        }
      ]
    },
    {
      "cell_type": "code",
      "metadata": {
        "id": "cNPIpd3K3Ubo",
        "colab": {
          "base_uri": "https://localhost:8080/"
        },
        "outputId": "3727588d-09af-4c03-83f1-11467dcfdb89"
      },
      "source": [
        "OUT_A ,OUT_B , OUT_C , OUT_D , OUT_E,OUT_F \n"
      ],
      "execution_count": 134,
      "outputs": [
        {
          "output_type": "execute_result",
          "data": {
            "text/plain": [
              "([0, 0, 13, 7, 0, 0],\n",
              " [0, 1, 17, 2, 0, 0],\n",
              " [0, 0, 14, 6, 0, 0],\n",
              " [0, 0, 16, 4, 0, 0],\n",
              " [0, 0, 17, 2, 0, 1],\n",
              " [0, 0, 19, 1, 0, 0])"
            ]
          },
          "metadata": {
            "tags": []
          },
          "execution_count": 134
        }
      ]
    },
    {
      "cell_type": "code",
      "metadata": {
        "colab": {
          "base_uri": "https://localhost:8080/"
        },
        "id": "_VneRqSFPlOn",
        "outputId": "526d600e-cde3-41b3-b09a-2eac35b24a30"
      },
      "source": [
        "0 + 1/20 + 14/20 + 4/20 + 1/20 \n",
        "0 + 1 + 14 + 4 +1"
      ],
      "execution_count": 136,
      "outputs": [
        {
          "output_type": "execute_result",
          "data": {
            "text/plain": [
              "20"
            ]
          },
          "metadata": {
            "tags": []
          },
          "execution_count": 136
        }
      ]
    },
    {
      "cell_type": "code",
      "metadata": {
        "colab": {
          "base_uri": "https://localhost:8080/"
        },
        "id": "8rk5KTmZPlUQ",
        "outputId": "88c65f0b-2ae6-490c-923b-3f384b7d9b1c"
      },
      "source": [
        "20/120"
      ],
      "execution_count": 137,
      "outputs": [
        {
          "output_type": "execute_result",
          "data": {
            "text/plain": [
              "0.16666666666666666"
            ]
          },
          "metadata": {
            "tags": []
          },
          "execution_count": 137
        }
      ]
    },
    {
      "cell_type": "code",
      "metadata": {
        "id": "hHijtC9qPlY2"
      },
      "source": [
        ""
      ],
      "execution_count": 131,
      "outputs": []
    },
    {
      "cell_type": "code",
      "metadata": {
        "id": "vf7GAK3CPlcX"
      },
      "source": [
        ""
      ],
      "execution_count": null,
      "outputs": []
    }
  ]
}