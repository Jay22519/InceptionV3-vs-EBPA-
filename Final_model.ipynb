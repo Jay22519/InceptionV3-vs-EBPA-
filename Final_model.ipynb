{
 "cells": [
  {
   "cell_type": "code",
   "execution_count": 13,
   "metadata": {
    "id": "-PC2yW-DlF-D"
   },
   "outputs": [],
   "source": [
    "import glob\n",
    "\n",
    "# Importing drive method from colab for accessing google drive\n",
    "from google.colab import drive"
   ]
  },
  {
   "cell_type": "code",
   "execution_count": 14,
   "metadata": {
    "colab": {
     "base_uri": "https://localhost:8080/"
    },
    "id": "SgFk4VF4lKzN",
    "outputId": "54a965c6-5157-4e0d-8a1f-78e5f5870c60"
   },
   "outputs": [
    {
     "name": "stdout",
     "output_type": "stream",
     "text": [
      "Drive already mounted at /content/drive; to attempt to forcibly remount, call drive.mount(\"/content/drive\", force_remount=True).\n"
     ]
    }
   ],
   "source": [
    "drive.mount('/content/drive')"
   ]
  },
  {
   "cell_type": "code",
   "execution_count": 15,
   "metadata": {
    "id": "LKcLHxtplMNm"
   },
   "outputs": [],
   "source": [
    "import glob\n",
    "import numpy as np\n",
    "import pandas as pd "
   ]
  },
  {
   "cell_type": "code",
   "execution_count": 16,
   "metadata": {
    "id": "OpBJ3am1lXul"
   },
   "outputs": [],
   "source": [
    "import tensorflow as tf\n",
    "from tensorflow.keras.preprocessing.image import load_img, img_to_array"
   ]
  },
  {
   "cell_type": "code",
   "execution_count": 17,
   "metadata": {
    "id": "waJ2f-uAlYah"
   },
   "outputs": [],
   "source": [
    "import copy "
   ]
  },
  {
   "cell_type": "code",
   "execution_count": 68,
   "metadata": {
    "id": "p4ETofqulYd2"
   },
   "outputs": [],
   "source": [
    "class Model() :\n",
    "    network = [[1 for i in range(4)] for j in range(100000)]\n",
    "    it =  0 \n",
    "\n",
    "    def input(self,input) :\n",
    "        self.input = input \n",
    "        \n",
    "    def output(self,output) :\n",
    "        self.output = output \n",
    "        \n",
    "    def add(self,input_shape , prev_shape , activation_func) :\n",
    "            weight = [[random() for i in range(prev_shape)] for j in range(input_shape)]\n",
    "            neuron = [random() for i in range(input_shape)]\n",
    "            bias = random()\n",
    "\n",
    "            self.network[self.it][0],self.network[self.it][1],self.network[self.it][2],self.network[self.it][3] =  weight,neuron,bias,activation_func\n",
    "            self.it+=1 \n",
    "            \n",
    "    \n",
    "            \n",
    "    \n",
    "    "
   ]
  },
  {
   "cell_type": "code",
   "execution_count": 69,
   "metadata": {
    "id": "0QxZqYKvlYg6"
   },
   "outputs": [],
   "source": [
    "def conv2d(image,kernel) :\n",
    "    \n",
    "    #kernel.size = (3,3) ; \n",
    "    length = len(image)\n",
    "    #print(length)\n",
    "    output = [[[0,0,0]  for j in range(length-3)] for i in range(length-3) ]\n",
    "    for i in range(0,length-3,1) :\n",
    "        for j in range(0,length-3,1) :\n",
    "            for k in range(3):\n",
    "                ans = 0 \n",
    "                for a in range(3):\n",
    "                    for b in range(3) :\n",
    "                        ans += image[i+a][j+b][k]*kernel[a][b]\n",
    "                #print(ans)\n",
    "                output[i][j][k] =  ans \n",
    "                \n",
    "                \n",
    "    return output\n",
    "\n",
    "# (image[3:6][0:3][0]*kernel).sum()\n",
    "     "
   ]
  },
  {
   "cell_type": "code",
   "execution_count": 70,
   "metadata": {
    "id": "SNwU9JXKlYjn"
   },
   "outputs": [],
   "source": [
    "filter = [[[1/9,1/9,1/9],[1/9,1/9,1/9],[1/9,1/9,1/9]],[[0,-1,0],\n",
    "                                                       [-1,5,-1],[0,-1,0]],[[1 ,0,1],[-2,0,2],[-1,0,1]],[[1,-2,-1],[0,0,0],[1,2,1]]]"
   ]
  },
  {
   "cell_type": "code",
   "execution_count": 71,
   "metadata": {
    "id": "-O5003WMlYmR"
   },
   "outputs": [],
   "source": [
    "def pooling(feature_map, size=2, stride=2):    \n",
    "    pool_out = np.zeros((np.uint16((feature_map.shape[0]-size+1)/stride),  \n",
    "                              np.uint16((feature_map.shape[1]-size+1)/stride),  \n",
    "                              feature_map.shape[-1]))  \n",
    "    for map_num in range(feature_map.shape[-1]):  \n",
    "        r2 = 0  \n",
    "        for r in np.arange(0,feature_map.shape[0]-size-1, stride):  \n",
    "            c2 = 0  \n",
    "            for c in np.arange(0, feature_map.shape[1]-size-1, stride):  \n",
    "                pool_out[r2, c2, map_num] = np.max(feature_map[r:r+size,  c:c+size])  \n",
    "                c2 = c2 + 1  \n",
    "            r2 = r2 +1 \n",
    "            \n",
    "    return pool_out\n",
    "                "
   ]
  },
  {
   "cell_type": "code",
   "execution_count": 71,
   "metadata": {
    "id": "84Kcgg1plYpG"
   },
   "outputs": [],
   "source": []
  },
  {
   "cell_type": "markdown",
   "metadata": {
    "id": "YtGUW4wKnzcI"
   },
   "source": [
    "FORWARD PROPAGATION\n",
    "\n",
    "```\n",
    "# This is formatted as code\n",
    "```\n",
    "\n"
   ]
  },
  {
   "cell_type": "code",
   "execution_count": 72,
   "metadata": {
    "id": "IFpKJVn2mBPI"
   },
   "outputs": [],
   "source": [
    "def active_sum(input,weight,bias) :\n",
    "    activation = bias \n",
    "    for i in range(len(weight)) : \n",
    "        activation += (weight[i]*input[i]) \n",
    "        \n",
    "    return activation"
   ]
  },
  {
   "cell_type": "code",
   "execution_count": 73,
   "metadata": {
    "id": "F_n0sTxWmBTS"
   },
   "outputs": [],
   "source": [
    "def sigmoid(input) :\n",
    "    return 1.0/(1.0 + np.exp(-input))"
   ]
  },
  {
   "cell_type": "code",
   "execution_count": 74,
   "metadata": {
    "id": "Cl3ZGb_PmBXW"
   },
   "outputs": [],
   "source": [
    "def ReLU(input) :\n",
    "    if(input >0) :\n",
    "        return input \n",
    "    return (0.01*input)"
   ]
  },
  {
   "cell_type": "code",
   "execution_count": 75,
   "metadata": {
    "id": "zk4QoluTooiM"
   },
   "outputs": [],
   "source": [
    "def Softmax(input) :\n",
    "  output = [0 for i in range(len(input))]\n",
    "  sum =  0 \n",
    "  for i in range(len(input)) :\n",
    "    sum += np.exp(input[i]) \n",
    "  for i in range(len(input)) :\n",
    "    output[i] = (np.exp(input[i]))/sum \n",
    "\n",
    "  return output"
   ]
  },
  {
   "cell_type": "code",
   "execution_count": 76,
   "metadata": {
    "id": "yPt0r3RnmBa4"
   },
   "outputs": [],
   "source": [
    "def Activation(sum_active,function) :\n",
    "    if(function == 'ReLU'):\n",
    "        return ReLU(sum_active)\n",
    "    if(function == 'sigmoid') :\n",
    "        return sigmoid(sum_active)\n",
    "    if(function == 'softmax') :\n",
    "      return Softmax(sum_active)"
   ]
  },
  {
   "cell_type": "code",
   "execution_count": 115,
   "metadata": {
    "id": "UwMH_v8xmBeR"
   },
   "outputs": [],
   "source": [
    "def forward_prop(network,input,bias,it) :\n",
    "    #print(it)\n",
    "    my_input = input\n",
    "    my_bias = bias \n",
    "    #print(my_input)\n",
    "    for i in range(it-1) :  #Each hidden layer\n",
    "        sum_active = [0 for i in range(len(network[i][1]))]\n",
    "        for j in range(len(network[i][1])): #For each neuron \n",
    "            sum_active[j] = active_sum(network[i][0][j],my_input,my_bias)\n",
    "        \n",
    "        sum_active = normalise(sum_active)\n",
    "        for j in range(len(network[i][1])) :\n",
    "          activation = Activation(sum_active[j],network[i][3])      \n",
    "          network[i][1][j] = activation\n",
    "        \n",
    "        my_input = network[i][1]\n",
    "        my_bias = network[i][2]         \n",
    "            \n",
    "    #### For last layer \n",
    "    sum_active1 = [0 for i in range(len(network[it-1][1]))]\n",
    "    for j in range(len(network[it-1][1])) :\n",
    "        sum_active1[j] = active_sum(network[it-1][0][j],my_input,my_bias)\n",
    "    \n",
    "    sum_active = normalise(sum_active)\n",
    "    output = Softmax(sum_active1)\n",
    "    network[it-1][1] = output \n",
    "        \n",
    "            \n",
    "    #output = Softmax(sum_active)\n",
    "    #for j in range(len(network[it-1][1])): #For each neuron \n",
    "     #   network[it-1][1][j] = output[j]\n",
    "                     \n",
    "    return network"
   ]
  },
  {
   "cell_type": "code",
   "execution_count": 78,
   "metadata": {
    "id": "Z_tlVqGWmBh-"
   },
   "outputs": [],
   "source": [
    "def sig_derivative(input) :\n",
    "    \n",
    "    return sigmoid(input)*(1.0  - sigmoid(input))"
   ]
  },
  {
   "cell_type": "code",
   "execution_count": 79,
   "metadata": {
    "id": "d8tZ-lkgn9EH"
   },
   "outputs": [],
   "source": [
    "def rel_derivative(input) :\n",
    "    if(input >0) :\n",
    "        return 1 \n",
    "    return (-0.01)"
   ]
  },
  {
   "cell_type": "code",
   "execution_count": 80,
   "metadata": {
    "id": "q_XKJ2xwn9Hb"
   },
   "outputs": [],
   "source": [
    "def soft_derivative(x) : # Complete layer is passed \n",
    "    y = [0 for i in range(len(x))] \n",
    "    for i in range(len(x)) :\n",
    "        for j in range(len(x)) :\n",
    "            if(i != j) :\n",
    "                y[i] += x[i]*x[j]*(-1) \n",
    "            else :\n",
    "                y[i] += x[i]*(1-x[i]) \n",
    "                \n",
    "    return y"
   ]
  },
  {
   "cell_type": "code",
   "execution_count": 81,
   "metadata": {
    "id": "2LnxixYkn9Jq"
   },
   "outputs": [],
   "source": [
    "def derivative(input,function) :\n",
    "\n",
    "    if(function == 'ReLU') :\n",
    "       ## print(\"ReLu\")\n",
    "        return rel_derivative(input)\n",
    "    if(function == 'sigmoid') :\n",
    "        #print(\"Sigmoid\")\n",
    "        return sig_derivative(input)\n",
    "\n",
    "      \n",
    "        "
   ]
  },
  {
   "cell_type": "code",
   "execution_count": 90,
   "metadata": {
    "id": "YXROXiAnn9O6"
   },
   "outputs": [],
   "source": [
    "def back_prop(network,input,output,learning_rate,bias,it) :\n",
    "    error = [[1 for i in range(1000)] for j in range(it)]\n",
    "    #For last layer \n",
    "    it-=1 \n",
    "    sum_det = 0 #For bias \n",
    "\n",
    "    ### Calculation error and derivative for Softmax(last layer)\n",
    "    error[it] =  soft_derivative(network[it][1]) \n",
    "    \n",
    "    for j in range(len(error[it])) :\n",
    "        sum_det += error[it][j] \n",
    "\n",
    "    for i in range(len(network[it][1])) : #For each neuron  \n",
    "        #Now adjusting all weights to this neuron \n",
    "        delta = error[it][i]\n",
    "        for j in range(len(network[it][0][i])) :\n",
    "            network[it][0][i][j] += (learning_rate*delta*network[it-1][1][j])\n",
    "            \n",
    "            \n",
    "    network[it-1][2] *= (1 + learning_rate*sum_det)\n",
    "    \n",
    "    it-=1 \n",
    "    \n",
    "    \n",
    "    ## Now doing for all layers but first \n",
    "    while(it != 0) :\n",
    "        sum_det = 0\n",
    "        for i in range(len(network[it][1])) : #For each neuron \n",
    "            \n",
    "            err = 0 #Calculating err for each neuron which is summation(error[it+1][j]*w[j][i])\n",
    "            \n",
    "            for j in range(len(network[it+1][1])) :\n",
    "                err += (error[it+1][j]*network[it+1][0][j][i])\n",
    "                \n",
    "            \n",
    "            error[it][i] = err \n",
    "            delta = error[it][i]*derivative(network[it][1][i],network[it][3]) \n",
    "            error[it][i] = delta\n",
    "            sum_det += delta\n",
    "            for j in range(len(network[it][0][i])) :\n",
    "                network[it][0][i][j] += (learning_rate*delta*network[it-1][1][j])\n",
    "            \n",
    "            \n",
    "        network[it-1][2] *= (1 + learning_rate*sum_det)\n",
    "\n",
    "        it-=1 \n",
    "        \n",
    "        \n",
    "    #Now for last layer . Here the only change will be that instead of network we'll take input and input bias \n",
    "    \n",
    "    sum_det = 0\n",
    "    for i in range(len(network[it][1])) : #For each neuron \n",
    "\n",
    "        err = 0 #Calculating err for each neuron which is summation(error[it+1][j]*w[j][i])\n",
    "\n",
    "        for j in range(len(network[it+1][1])) :\n",
    "            err += (error[it+1][j]*network[it+1][0][j][i])\n",
    "\n",
    "\n",
    "        error[it][i] = err \n",
    "        delta = error[it][i]*derivative(network[it][1][i],network[it][3])  \n",
    "        error[it][i] = delta\n",
    "        sum_det += delta\n",
    "        for j in range(len(network[it][0][i])) :\n",
    "            network[it][0][i][j] += (learning_rate*delta*input[j])\n",
    "\n",
    "\n",
    "    bias*= (1 + learning_rate*sum_det)\n",
    "    \n",
    "            \n",
    "            \n",
    "    \n",
    "    return network\n",
    "        \n",
    "    "
   ]
  },
  {
   "cell_type": "code",
   "execution_count": 83,
   "metadata": {
    "id": "1ZDNlmErn9RW"
   },
   "outputs": [],
   "source": [
    "def normalise(input) :\n",
    "    mean = sum(input) / len(input) \n",
    "    variance = sum([((x - mean) ** 2) for x in input]) / len(input)\n",
    "    for k in range(len(input)) :\n",
    "        input[k] = (input[k] - mean)/variance\n",
    "        \n",
    "    return input"
   ]
  },
  {
   "cell_type": "code",
   "execution_count": 99,
   "metadata": {
    "id": "cxvyT1r3n9T3"
   },
   "outputs": [],
   "source": [
    "def train(network,output,bias,learning_rate,it,epoch,num_img) :\n",
    "    error = []\n",
    "    \n",
    "    for i in range(epoch):\n",
    "        for j in range(num_img) :\n",
    "            start_time = datetime.now() \n",
    "            answer = 0 \n",
    "            a[j] = normalise(a[j]) \n",
    "            network = forward_prop(network,a[j],bias,it)\n",
    "            network = back_prop(network,a[j],output[0],learning_rate,bias,it)\n",
    "            \n",
    "            #answer += error_function(network[it-1][1],output[0])\n",
    "            #print(\"Time taken to run a is cell is  (hh:mm:ss.ms) {}\".format(datetime.now() - start_time))\n",
    "            b[j] = normalise(b[j]) \n",
    "            network = forward_prop(network,b[j],bias,it)\n",
    "            network = back_prop(network,b[j],output[1],learning_rate,bias,it)\n",
    "            #answer += error_function(network[it-1][1],output[1])\n",
    "            \n",
    "            #print(\"Time taken to run b is cell is  (hh:mm:ss.ms) {}\".format(datetime.now() - start_time))\n",
    "            c[j] = normalise(c[j]) \n",
    "            network = forward_prop(network,c[j],bias,it)\n",
    "            network = back_prop(network,c[j],output[2],learning_rate,bias,it)\n",
    "            #answer += error_function(network[it-1][1],output[2])\n",
    "            #print(\"Time taken to run c is cell is  (hh:mm:ss.ms) {}\".format(datetime.now() - start_time))\n",
    "            \n",
    "            d[j] = normalise(d[j] ) \n",
    "            network = forward_prop(network,d[j] ,bias,it)\n",
    "            network = back_prop(network,d[j] ,output[3],learning_rate,bias,it)\n",
    "            #answer += error_function(network[it-1][1],output[3])\n",
    "            #print(\"Time taken to run d is cell is  (hh:mm:ss.ms) {}\".format(datetime.now() - start_time))\n",
    "            \n",
    "            e[j] = normalise(e[j]) \n",
    "            network = forward_prop(network,e[j],bias,it)\n",
    "            network = back_prop(network,e[j],output[4],learning_rate,bias,it)\n",
    "            #answer += error_function(network[it-1][1],output[4])\n",
    "            #print(\"Time taken to run e is cell is  (hh:mm:ss.ms) {}\".format(datetime.now() - start_time))\n",
    "            \n",
    "            f[j] = normalise(f[j]) \n",
    "            network = forward_prop(network,f[j],bias,it)\n",
    "            network = back_prop(network,f[j],output[5],learning_rate,bias,it)\n",
    "            #answer += error_function(network[it-1][1],output[5])\n",
    "            #print(\"Time taken to run e is cell is  (hh:mm:ss.ms) {}\".format(datetime.now() - start_time))\n",
    "            \n",
    "            \n",
    "            print(\"Image number \",j,\" done\")\n",
    "            print(\"Time taken to run Image \",j,\" is  (hh:mm:ss.ms) {}\".format(datetime.now() - start_time))\n",
    "            print(network[2][1])\n",
    "                \n",
    "        error.append(answer/epoch*num_img)\n",
    "        \n",
    "    \n",
    "    return network,error"
   ]
  },
  {
   "cell_type": "code",
   "execution_count": 116,
   "metadata": {
    "id": "TF-csz01n9Wj"
   },
   "outputs": [],
   "source": [
    "def predict(tmp,input,bias,it) :\n",
    "    network = copy.deepcopy(tmp) \n",
    "    #print(it)\n",
    "    my_input = input\n",
    "    my_bias = bias \n",
    "    #print(my_input)\n",
    "    for i in range(it-1) :  #Each hidden layer\n",
    "        sum_active = [0 for i in range(len(network[i][1]))]\n",
    "        for j in range(len(network[i][1])): #For each neuron \n",
    "            sum_active[j] = active_sum(network[i][0][j],my_input,my_bias)\n",
    "        \n",
    "        sum_active = normalise(sum_active)\n",
    "        for j in range(len(network[i][1])) :\n",
    "          activation = Activation(sum_active[j],network[i][3])      \n",
    "          network[i][1][j] = activation\n",
    "        \n",
    "        my_input = network[i][1]\n",
    "        my_bias = network[i][2]         \n",
    "            \n",
    "    #### For last layer \n",
    "    sum_active1 = [0 for i in range(len(network[it-1][1]))]\n",
    "    for j in range(len(network[it-1][1])) :\n",
    "        sum_active1[j] = active_sum(network[it-1][0][j],my_input,my_bias)\n",
    "    \n",
    "    sum_active = normalise(sum_active)\n",
    "    output = Softmax(sum_active1)\n",
    "    network[it-1][1] = output \n",
    "        \n",
    "            \n",
    "    #output = Softmax(sum_active)\n",
    "    #for j in range(len(network[it-1][1])): #For each neuron \n",
    "     #   network[it-1][1][j] = output[j]\n",
    "                     \n",
    "    return network[it-1][1]"
   ]
  },
  {
   "cell_type": "code",
   "execution_count": 32,
   "metadata": {
    "id": "KIswlCy_n9ZY"
   },
   "outputs": [],
   "source": [
    "def dataset_extraction(path,class_number):\n",
    "    x_train=[]\n",
    "    y_train=[]\n",
    "    all_images=glob.glob(path+'/*.jpg')\n",
    "    for path in all_images :\n",
    "            img=load_img(path, target_size=(150,150))\n",
    "            img=img_to_array(img)\n",
    "            img = img/255\n",
    "            x_train.append(img)\n",
    "            y_train.append(class_number)\n",
    "    return np.array(x_train),np.array(y_train)"
   ]
  },
  {
   "cell_type": "code",
   "execution_count": 33,
   "metadata": {
    "id": "oXXRnre4rNKj"
   },
   "outputs": [],
   "source": [
    "from datetime import datetime "
   ]
  },
  {
   "cell_type": "code",
   "execution_count": 34,
   "metadata": {
    "colab": {
     "base_uri": "https://localhost:8080/"
    },
    "id": "IX4Mig2JrNNk",
    "outputId": "f8eee4e1-3dcf-42a0-f494-a49a5d9a0ba8"
   },
   "outputs": [
    {
     "name": "stdout",
     "output_type": "stream",
     "text": [
      "Time taken to run this cell is  (hh:mm:ss.ms) 0:13:15.111000\n"
     ]
    }
   ],
   "source": [
    "start_time = datetime.now() \n",
    "trainX_building, trainY_building  = dataset_extraction(\"/content/drive/My Drive/seg_test/seg_test/buildings/\",0)\n",
    "trainX_forest,trainY_forest  = dataset_extraction(\"/content/drive/My Drive/seg_test/seg_test/forest/\",1)\n",
    "trainX_glacier,trainY_glacier  = dataset_extraction(\"/content/drive/My Drive/seg_test/seg_test/glacier/\",2)\n",
    "trainX_mount,trainY_mount  = dataset_extraction(\"/content/drive/My Drive/seg_test/seg_test/mountain/\",3)\n",
    "trainX_sea,trainY_sea  = dataset_extraction(\"/content/drive/My Drive/seg_test/seg_test/sea/\",4)\n",
    "trainX_street,trainY_street  =  dataset_extraction(\"/content/drive/My Drive/seg_test/seg_test/street/\",5)\n",
    "\n",
    "print('Time taken to run this cell is  (hh:mm:ss.ms) {}'.format(datetime.now() - start_time))"
   ]
  },
  {
   "cell_type": "code",
   "execution_count": 35,
   "metadata": {
    "id": "KPI_yq5orNQY"
   },
   "outputs": [],
   "source": [
    "import matplotlib.pyplot as plt \n",
    "%matplotlib inline\n",
    "\n",
    "import math \n",
    "from random import random \n",
    "\n",
    "from PIL import Image \n",
    "\n",
    "import copy "
   ]
  },
  {
   "cell_type": "code",
   "execution_count": 36,
   "metadata": {
    "colab": {
     "base_uri": "https://localhost:8080/"
    },
    "id": "boO3I-bjrNTi",
    "outputId": "39020857-cbd8-4b30-c641-cc080eafd435"
   },
   "outputs": [
    {
     "data": {
      "text/plain": [
       "((437, 150, 150, 3),\n",
       " (474, 150, 150, 3),\n",
       " (553, 150, 150, 3),\n",
       " (525, 150, 150, 3),\n",
       " (510, 150, 150, 3),\n",
       " (501, 150, 150, 3))"
      ]
     },
     "execution_count": 36,
     "metadata": {
      "tags": []
     },
     "output_type": "execute_result"
    }
   ],
   "source": [
    "trainX_building.shape , trainX_forest.shape , trainX_glacier.shape , trainX_mount.shape, trainX_sea.shape , trainX_street.shape   "
   ]
  },
  {
   "cell_type": "code",
   "execution_count": 39,
   "metadata": {
    "id": "8ROAZ75yrNWG"
   },
   "outputs": [],
   "source": [
    "a = [0 for i in range(400)]\n",
    "b = [0 for i in range(400)]\n",
    "c = [0 for i in range(400)]\n",
    "d = [0 for i in range(400)]\n",
    "e = [0 for i in range(400)]\n",
    "f = [0 for i in range(400)]"
   ]
  },
  {
   "cell_type": "code",
   "execution_count": 40,
   "metadata": {
    "id": "zBEcISDArNYy"
   },
   "outputs": [],
   "source": [
    "trainX_forest = trainX_forest[:400]\n",
    "trainX_glacier = trainX_glacier[:400]\n",
    "trainX_mount = trainX_mount[:400]\n",
    "trainX_sea = trainX_sea[:400]\n",
    "trainX_street = trainX_street[:400]\n",
    "trainX_building = trainX_building[:400]"
   ]
  },
  {
   "cell_type": "code",
   "execution_count": 56,
   "metadata": {
    "id": "H13jhhMFrNb3"
   },
   "outputs": [],
   "source": [
    "def conv_preprocess(input) :\n",
    "  a = conv2d(input,filter[2]) \n",
    "  #print(len(a))\n",
    "  b = conv2d(a,filter[3]) \n",
    "  #print(len(b))\n",
    "  c = pooling(np.array(b)) \n",
    "  #print(c.shape)\n",
    "  d = conv2d(c,filter[1])\n",
    "  #print(len(d))\n",
    "  e = conv2d(d,filter[0])\n",
    "  #print(len(e))\n",
    "  f = pooling(np.array(e)) \n",
    "  #print(f.shape)\n",
    "  f = np.array(f)\n",
    "  return f.flatten().reshape(f.shape[0]*f.shape[1]*f.shape[2])"
   ]
  },
  {
   "cell_type": "code",
   "execution_count": 45,
   "metadata": {
    "colab": {
     "base_uri": "https://localhost:8080/"
    },
    "id": "UW2v8Hp3vGI7",
    "outputId": "f74ec0c9-338e-4b0b-86be-80b3452ed871"
   },
   "outputs": [
    {
     "name": "stdout",
     "output_type": "stream",
     "text": [
      "Time taken to run 0 th it is cell is  (hh:mm:ss.ms) 0:00:16.882990\n",
      "Time taken to run 1 th it is cell is  (hh:mm:ss.ms) 0:00:16.829576\n",
      "Time taken to run 2 th it is cell is  (hh:mm:ss.ms) 0:00:16.918537\n",
      "Time taken to run 3 th it is cell is  (hh:mm:ss.ms) 0:00:16.876847\n",
      "Time taken to run 4 th it is cell is  (hh:mm:ss.ms) 0:00:17.007204\n",
      "Time taken to run 5 th it is cell is  (hh:mm:ss.ms) 0:00:16.855767\n",
      "Time taken to run 6 th it is cell is  (hh:mm:ss.ms) 0:00:17.300041\n",
      "Time taken to run 7 th it is cell is  (hh:mm:ss.ms) 0:00:16.876266\n",
      "Time taken to run 8 th it is cell is  (hh:mm:ss.ms) 0:00:16.766655\n",
      "Time taken to run 9 th it is cell is  (hh:mm:ss.ms) 0:00:16.814931\n",
      "Time taken to run 10 th it is cell is  (hh:mm:ss.ms) 0:00:16.715128\n",
      "Time taken to run 11 th it is cell is  (hh:mm:ss.ms) 0:00:16.810686\n",
      "Time taken to run 12 th it is cell is  (hh:mm:ss.ms) 0:00:16.864050\n",
      "Time taken to run 13 th it is cell is  (hh:mm:ss.ms) 0:00:16.836322\n",
      "Time taken to run 14 th it is cell is  (hh:mm:ss.ms) 0:00:16.816487\n",
      "Time taken to run 15 th it is cell is  (hh:mm:ss.ms) 0:00:16.832757\n",
      "Time taken to run 16 th it is cell is  (hh:mm:ss.ms) 0:00:16.841915\n",
      "Time taken to run 17 th it is cell is  (hh:mm:ss.ms) 0:00:16.813921\n",
      "Time taken to run 18 th it is cell is  (hh:mm:ss.ms) 0:00:16.837135\n",
      "Time taken to run 19 th it is cell is  (hh:mm:ss.ms) 0:00:16.846519\n",
      "Time taken to run 20 th it is cell is  (hh:mm:ss.ms) 0:00:16.990615\n",
      "Time taken to run 21 th it is cell is  (hh:mm:ss.ms) 0:00:16.874325\n",
      "Time taken to run 22 th it is cell is  (hh:mm:ss.ms) 0:00:16.960267\n",
      "Time taken to run 23 th it is cell is  (hh:mm:ss.ms) 0:00:16.857944\n",
      "Time taken to run 24 th it is cell is  (hh:mm:ss.ms) 0:00:16.987151\n",
      "Time taken to run 25 th it is cell is  (hh:mm:ss.ms) 0:00:16.997062\n",
      "Time taken to run 26 th it is cell is  (hh:mm:ss.ms) 0:00:16.820762\n",
      "Time taken to run 27 th it is cell is  (hh:mm:ss.ms) 0:00:16.994952\n",
      "Time taken to run 28 th it is cell is  (hh:mm:ss.ms) 0:00:16.905488\n",
      "Time taken to run 29 th it is cell is  (hh:mm:ss.ms) 0:00:16.751499\n",
      "Time taken to run 30 th it is cell is  (hh:mm:ss.ms) 0:00:16.878187\n",
      "Time taken to run 31 th it is cell is  (hh:mm:ss.ms) 0:00:16.852650\n",
      "Time taken to run 32 th it is cell is  (hh:mm:ss.ms) 0:00:16.684042\n",
      "Time taken to run 33 th it is cell is  (hh:mm:ss.ms) 0:00:16.793745\n",
      "Time taken to run 34 th it is cell is  (hh:mm:ss.ms) 0:00:16.883202\n",
      "Time taken to run 35 th it is cell is  (hh:mm:ss.ms) 0:00:16.873069\n",
      "Time taken to run 36 th it is cell is  (hh:mm:ss.ms) 0:00:16.690501\n",
      "Time taken to run 37 th it is cell is  (hh:mm:ss.ms) 0:00:16.811089\n",
      "Time taken to run 38 th it is cell is  (hh:mm:ss.ms) 0:00:16.820658\n",
      "Time taken to run 39 th it is cell is  (hh:mm:ss.ms) 0:00:16.816923\n",
      "Time taken to run 40 th it is cell is  (hh:mm:ss.ms) 0:00:16.808139\n",
      "Time taken to run 41 th it is cell is  (hh:mm:ss.ms) 0:00:16.878535\n",
      "Time taken to run 42 th it is cell is  (hh:mm:ss.ms) 0:00:16.714830\n",
      "Time taken to run 43 th it is cell is  (hh:mm:ss.ms) 0:00:16.833136\n",
      "Time taken to run 44 th it is cell is  (hh:mm:ss.ms) 0:00:16.812718\n",
      "Time taken to run 45 th it is cell is  (hh:mm:ss.ms) 0:00:16.914246\n",
      "Time taken to run 46 th it is cell is  (hh:mm:ss.ms) 0:00:16.761185\n",
      "Time taken to run 47 th it is cell is  (hh:mm:ss.ms) 0:00:16.624135\n",
      "Time taken to run 48 th it is cell is  (hh:mm:ss.ms) 0:00:16.802110\n",
      "Time taken to run 49 th it is cell is  (hh:mm:ss.ms) 0:00:16.836450\n",
      "Time taken to run 50 th it is cell is  (hh:mm:ss.ms) 0:00:16.792120\n",
      "Time taken to run 51 th it is cell is  (hh:mm:ss.ms) 0:00:16.723178\n",
      "Time taken to run 52 th it is cell is  (hh:mm:ss.ms) 0:00:16.842309\n",
      "Time taken to run 53 th it is cell is  (hh:mm:ss.ms) 0:00:16.921368\n",
      "Time taken to run 54 th it is cell is  (hh:mm:ss.ms) 0:00:16.765600\n",
      "Time taken to run 55 th it is cell is  (hh:mm:ss.ms) 0:00:16.895826\n",
      "Time taken to run 56 th it is cell is  (hh:mm:ss.ms) 0:00:16.872071\n",
      "Time taken to run 57 th it is cell is  (hh:mm:ss.ms) 0:00:16.706970\n",
      "Time taken to run 58 th it is cell is  (hh:mm:ss.ms) 0:00:16.806403\n",
      "Time taken to run 59 th it is cell is  (hh:mm:ss.ms) 0:00:16.780080\n"
     ]
    }
   ],
   "source": [
    "for i in range(60) :\n",
    "  start_time = datetime.now() \n",
    "  a[i] = conv_preprocess(trainX_building[i])\n",
    "  b[i] = conv_preprocess(trainX_forest[i])\n",
    "  c[i] = conv_preprocess(trainX_glacier[i])\n",
    "  d[i] = conv_preprocess(trainX_mount[i])\n",
    "  e[i] = conv_preprocess(trainX_sea[i])\n",
    "  f[i] = conv_preprocess(trainX_street[i])\n",
    "  print('Time taken to run',i,\"th it is cell is  (hh:mm:ss.ms) {}\".format(datetime.now() - start_time))\n",
    "  \n"
   ]
  },
  {
   "cell_type": "code",
   "execution_count": 40,
   "metadata": {
    "id": "LtEgMY-AvGMC"
   },
   "outputs": [],
   "source": []
  },
  {
   "cell_type": "code",
   "execution_count": 51,
   "metadata": {
    "colab": {
     "base_uri": "https://localhost:8080/"
    },
    "id": "IJdcTn_LvGOg",
    "outputId": "c70784a7-e484-4102-b327-e2ea33d88ff0"
   },
   "outputs": [
    {
     "data": {
      "text/plain": [
       "(3072,)"
      ]
     },
     "execution_count": 51,
     "metadata": {
      "tags": []
     },
     "output_type": "execute_result"
    }
   ],
   "source": [
    "a[0].shape "
   ]
  },
  {
   "cell_type": "code",
   "execution_count": 92,
   "metadata": {
    "id": "czfxy9xFyudj"
   },
   "outputs": [],
   "source": [
    "output= [[1,0,0,0,0,0],[0,1,0,0,0,0],[0,0,1,0,0,0],[0,0,0,1,0,0],[0,0,0,0,1,0],[0,0,0,0,0,1]]"
   ]
  },
  {
   "cell_type": "code",
   "execution_count": 108,
   "metadata": {
    "id": "rWQs55Bnyug5"
   },
   "outputs": [],
   "source": [
    "model = Model()"
   ]
  },
  {
   "cell_type": "code",
   "execution_count": 109,
   "metadata": {
    "id": "_25qGgx6yuka"
   },
   "outputs": [],
   "source": [
    "model.add(512,3072,'ReLU')\n",
    "model.add(70,512,'ReLU')\n",
    "model.add(6,70,'softmax')"
   ]
  },
  {
   "cell_type": "code",
   "execution_count": 110,
   "metadata": {
    "colab": {
     "base_uri": "https://localhost:8080/"
    },
    "id": "4BKnFs6RyunY",
    "outputId": "ddc74150-29dd-4386-d06f-cd48f974d861"
   },
   "outputs": [
    {
     "name": "stdout",
     "output_type": "stream",
     "text": [
      "3\n"
     ]
    }
   ],
   "source": [
    "bias = 1\n",
    "epoch = 2\n",
    "learning_rate = 0.1\n",
    "print(model.it)"
   ]
  },
  {
   "cell_type": "code",
   "execution_count": 111,
   "metadata": {
    "colab": {
     "base_uri": "https://localhost:8080/"
    },
    "id": "rwKycUbIyupm",
    "outputId": "05a22610-050c-4d67-dd08-af12c7f9c9c7"
   },
   "outputs": [
    {
     "data": {
      "text/plain": [
       "[0.9149650443990828,\n",
       " 0.6859132304306722,\n",
       " 0.8718729083674617,\n",
       " 0.8051485365436811,\n",
       " 0.4777132993031955,\n",
       " 0.8653026439525754]"
      ]
     },
     "execution_count": 111,
     "metadata": {
      "tags": []
     },
     "output_type": "execute_result"
    }
   ],
   "source": [
    "model.network[2][1]"
   ]
  },
  {
   "cell_type": "code",
   "execution_count": 112,
   "metadata": {
    "colab": {
     "base_uri": "https://localhost:8080/"
    },
    "id": "e1i5hocZyuvA",
    "outputId": "f6f9c91f-0b99-4865-ad69-69cef4fc254a"
   },
   "outputs": [
    {
     "name": "stdout",
     "output_type": "stream",
     "text": [
      "Image number  0  done\n",
      "Time taken to run Image  0  is  (hh:mm:ss.ms) 0:00:08.859485\n",
      "[0.9999984993148466, 2.6210446041386213e-07, 5.402831901472661e-07, 1.79670114808652e-08, 6.781409627807202e-07, 2.189528393271472e-09]\n",
      "Image number  1  done\n",
      "Time taken to run Image  1  is  (hh:mm:ss.ms) 0:00:08.780624\n",
      "[6.890741754639986e-07, 3.8398970894128154e-13, 0.9999904947743181, 1.735755669443948e-06, 7.080339103041063e-06, 5.634999110984609e-11]\n",
      "Image number  2  done\n",
      "Time taken to run Image  2  is  (hh:mm:ss.ms) 0:00:08.855333\n",
      "[0.31669779065538683, 8.475836462441556e-05, 0.21449824658660038, 0.054440003064889324, 0.40619803514333475, 0.008081166185164397]\n",
      "Image number  3  done\n",
      "Time taken to run Image  3  is  (hh:mm:ss.ms) 0:00:08.774277\n",
      "[0.3689529491239352, 0.46029316898095773, 0.0018751609238754712, 0.0023565181492573016, 0.006071404148429325, 0.16045079867354495]\n",
      "Image number  4  done\n",
      "Time taken to run Image  4  is  (hh:mm:ss.ms) 0:00:08.842133\n",
      "[0.163169243084392, 0.010155844500942661, 0.01502124704466276, 0.10685220297444012, 0.6722251603795993, 0.032576302015962955]\n",
      "Image number  5  done\n",
      "Time taken to run Image  5  is  (hh:mm:ss.ms) 0:00:08.812074\n",
      "[0.25397514027528045, 0.024970550736392632, 0.23655828310965255, 0.009512875988328302, 0.4660689245010633, 0.008914225389282856]\n",
      "Image number  6  done\n",
      "Time taken to run Image  6  is  (hh:mm:ss.ms) 0:00:08.803955\n",
      "[0.3963074062703798, 0.1926162004318406, 0.3377108365929681, 0.052737629423529955, 0.015289314283075471, 0.0053386129982063235]\n",
      "Image number  7  done\n",
      "Time taken to run Image  7  is  (hh:mm:ss.ms) 0:00:08.854726\n",
      "[0.22768383587921692, 0.009316453513933804, 0.6748712376815816, 0.007563933190871316, 0.07849917580425851, 0.0020653639301376945]\n",
      "Image number  8  done\n",
      "Time taken to run Image  8  is  (hh:mm:ss.ms) 0:00:08.835670\n",
      "[0.20279961473572475, 0.2191050878031235, 0.2803628724730549, 0.06425263440697211, 0.14246153408929044, 0.09101825649183422]\n",
      "Image number  9  done\n",
      "Time taken to run Image  9  is  (hh:mm:ss.ms) 0:00:08.944208\n",
      "[0.35626530148042207, 0.5264850594313013, 0.03684511392585844, 0.0007819926630875497, 0.07319125890174037, 0.0064312735975903205]\n",
      "Image number  10  done\n",
      "Time taken to run Image  10  is  (hh:mm:ss.ms) 0:00:08.888969\n",
      "[0.044078097383785216, 0.4991691434042352, 0.1380264088884642, 0.027418499369859444, 0.29090211737706906, 0.0004057335765869115]\n",
      "Image number  11  done\n",
      "Time taken to run Image  11  is  (hh:mm:ss.ms) 0:00:08.853297\n",
      "[0.41122400741118736, 0.003588151798747331, 0.010451743469561629, 0.006184507319984853, 0.5605516326468691, 0.007999957353649664]\n",
      "Image number  12  done\n",
      "Time taken to run Image  12  is  (hh:mm:ss.ms) 0:00:08.888868\n",
      "[0.2123153778007677, 0.06863110405682381, 0.5783469978566065, 0.03733419910700772, 0.09754577267623066, 0.0058265485025635775]\n",
      "Image number  13  done\n",
      "Time taken to run Image  13  is  (hh:mm:ss.ms) 0:00:08.961596\n",
      "[0.18963284025502503, 0.16540492403240972, 0.1919576441386608, 0.31435486498630594, 0.013277923971401494, 0.12537180261619704]\n",
      "Image number  14  done\n",
      "Time taken to run Image  14  is  (hh:mm:ss.ms) 0:00:08.891997\n",
      "[0.7259392798661314, 0.02181054095469759, 0.2440981823210219, 0.0027176077428266734, 0.004572601058469144, 0.0008617880568533564]\n",
      "Image number  15  done\n",
      "Time taken to run Image  15  is  (hh:mm:ss.ms) 0:00:08.891053\n",
      "[0.28180601014673123, 0.028253814073978666, 0.49312190798112926, 0.02236701546185805, 0.0024426839974070356, 0.1720085683388957]\n",
      "Image number  16  done\n",
      "Time taken to run Image  16  is  (hh:mm:ss.ms) 0:00:08.899938\n",
      "[0.054185726621762645, 0.027109242765110328, 0.36007247412153776, 0.16568400154653798, 0.38314636654546436, 0.009802188399586862]\n",
      "Image number  17  done\n",
      "Time taken to run Image  17  is  (hh:mm:ss.ms) 0:00:08.907919\n",
      "[0.9345338253504023, 0.013996602546879181, 0.04718427017818875, 6.245679496934774e-05, 0.003930977529741757, 0.0002918675998187805]\n",
      "Image number  18  done\n",
      "Time taken to run Image  18  is  (hh:mm:ss.ms) 0:00:08.852050\n",
      "[0.33675406900150484, 0.00021203025264831453, 0.007888619977582705, 0.05709926817265857, 0.13786445972986827, 0.46018155286573725]\n",
      "Image number  19  done\n",
      "Time taken to run Image  19  is  (hh:mm:ss.ms) 0:00:08.944827\n",
      "[0.0023453326606037235, 5.7688579515240666e-05, 0.001964672152710452, 0.0037101360729905326, 0.9879672923558935, 0.003954878178286483]\n",
      "Image number  20  done\n",
      "Time taken to run Image  20  is  (hh:mm:ss.ms) 0:00:09.024070\n",
      "[0.1555157356461762, 0.1520073754075697, 0.5188582224584573, 0.049429656177701585, 0.10349686843908368, 0.02069214187101155]\n",
      "Image number  21  done\n",
      "Time taken to run Image  21  is  (hh:mm:ss.ms) 0:00:09.000054\n",
      "[0.6965453101942843, 0.0007781489485856207, 0.18429890060334553, 0.09125076114701094, 0.02648323546659469, 0.0006436436401788955]\n",
      "Image number  22  done\n",
      "Time taken to run Image  22  is  (hh:mm:ss.ms) 0:00:09.015854\n",
      "[0.4193118813801444, 0.01991155046061776, 0.24816088466466604, 0.026597304390022076, 0.28178398814176014, 0.004234390962789576]\n",
      "Image number  23  done\n",
      "Time taken to run Image  23  is  (hh:mm:ss.ms) 0:00:08.929575\n",
      "[0.07839352249581151, 0.15068138322455596, 0.3594270176553953, 0.0011753201494445866, 0.40706298162165644, 0.0032597748531362613]\n",
      "Image number  24  done\n",
      "Time taken to run Image  24  is  (hh:mm:ss.ms) 0:00:08.901237\n",
      "[0.3403310010613019, 0.11215131874555972, 0.05545424784203239, 0.369243339160531, 0.10685131380154128, 0.015968779389033617]\n",
      "Image number  25  done\n",
      "Time taken to run Image  25  is  (hh:mm:ss.ms) 0:00:12.762303\n",
      "[0.9303956161199507, 0.03388615204073531, 0.009164904052325359, 0.0099906532975813, 0.014731110775431622, 0.0018315637139758878]\n",
      "Image number  26  done\n",
      "Time taken to run Image  26  is  (hh:mm:ss.ms) 0:00:09.458640\n",
      "[0.08581076094415964, 6.733044085743237e-05, 0.012812408537620735, 0.011829564601954471, 0.8887165136823467, 0.0007634217930608785]\n",
      "Image number  27  done\n",
      "Time taken to run Image  27  is  (hh:mm:ss.ms) 0:00:08.959430\n",
      "[0.0007391195245808452, 0.0001313152773532895, 0.0010168299551701477, 0.023840419452931163, 0.9733758791080492, 0.0008964366819153193]\n",
      "Image number  28  done\n",
      "Time taken to run Image  28  is  (hh:mm:ss.ms) 0:00:08.980823\n",
      "[0.08708896908314535, 0.11830218381614539, 0.6636449589868051, 0.0066044604499181855, 0.11865883440583652, 0.005700593258149321]\n",
      "Image number  29  done\n",
      "Time taken to run Image  29  is  (hh:mm:ss.ms) 0:00:08.972873\n",
      "[0.5794869342516447, 0.06765510472531755, 0.00587719828661759, 0.11515732272722033, 0.20549560717577, 0.026327832833429887]\n",
      "Image number  30  done\n",
      "Time taken to run Image  30  is  (hh:mm:ss.ms) 0:00:08.941103\n",
      "[0.08997884384459338, 0.0117333680006094, 0.061442310592466194, 0.05300483083426085, 0.7440750918862442, 0.03976555484182591]\n",
      "Image number  31  done\n",
      "Time taken to run Image  31  is  (hh:mm:ss.ms) 0:00:08.910163\n",
      "[0.15546232091427942, 0.41600664867299547, 0.005173507930468346, 0.010280950087193949, 0.41267169399215164, 0.0004048784029111772]\n",
      "Image number  32  done\n",
      "Time taken to run Image  32  is  (hh:mm:ss.ms) 0:00:09.014046\n",
      "[0.05081153950350729, 0.018853270769706106, 0.010672497256430834, 0.0022612280692164504, 0.9159249637567788, 0.0014765006443606633]\n",
      "Image number  33  done\n",
      "Time taken to run Image  33  is  (hh:mm:ss.ms) 0:00:09.003132\n",
      "[0.8176735334615005, 0.07100385697776196, 0.09542570352656515, 0.007336613532946219, 0.007837343689491337, 0.0007229488117345944]\n",
      "Image number  34  done\n",
      "Time taken to run Image  34  is  (hh:mm:ss.ms) 0:00:08.924625\n",
      "[0.1520392799738876, 0.006855993262738161, 0.09985248829511505, 0.006564458277378044, 0.7217105231203239, 0.012977257070557318]\n",
      "Image number  35  done\n",
      "Time taken to run Image  35  is  (hh:mm:ss.ms) 0:00:08.996572\n",
      "[0.9448968706916498, 0.04371720111927817, 0.003874899698647961, 0.001348449879491692, 0.0023072413077141417, 0.00385533730321817]\n",
      "Image number  36  done\n",
      "Time taken to run Image  36  is  (hh:mm:ss.ms) 0:00:08.948147\n",
      "[0.5527476782687932, 0.0007389111317894463, 0.28700290014539925, 0.009033196731548187, 0.1478823744840239, 0.0025949392384459987]\n",
      "Image number  37  done\n",
      "Time taken to run Image  37  is  (hh:mm:ss.ms) 0:00:09.022276\n",
      "[0.46302111590729056, 0.2523045018560065, 0.063706300348084, 0.031444444332826026, 0.1748485258687387, 0.014675111687054333]\n",
      "Image number  38  done\n",
      "Time taken to run Image  38  is  (hh:mm:ss.ms) 0:00:08.972400\n",
      "[0.12457966294924261, 0.017858034931266847, 0.05796651488188533, 0.5533850893527604, 0.23250309219386997, 0.013707605690974721]\n",
      "Image number  39  done\n",
      "Time taken to run Image  39  is  (hh:mm:ss.ms) 0:00:09.021718\n",
      "[0.8225646943416846, 0.11438569268995999, 0.0063107136402734375, 0.03569818354527569, 0.010751667158076603, 0.010289048624729676]\n",
      "Image number  40  done\n",
      "Time taken to run Image  40  is  (hh:mm:ss.ms) 0:00:09.003553\n",
      "[0.8452415343012339, 0.004115396601673162, 0.03867035876479484, 0.0132300956858815, 0.07212521810106011, 0.026617396545356487]\n",
      "Image number  41  done\n",
      "Time taken to run Image  41  is  (hh:mm:ss.ms) 0:00:08.975804\n",
      "[0.1822141515545607, 0.02456358323423256, 0.03353359642762136, 0.0005436990485282703, 0.7435285764216095, 0.01561639331344771]\n",
      "Image number  42  done\n",
      "Time taken to run Image  42  is  (hh:mm:ss.ms) 0:00:09.055639\n",
      "[0.03584067458834512, 0.0015024570198660704, 0.011751827114472943, 0.035384606823992124, 0.9151491576892297, 0.00037127676409397546]\n",
      "Image number  43  done\n",
      "Time taken to run Image  43  is  (hh:mm:ss.ms) 0:00:09.094707\n",
      "[0.0804731690605953, 0.0002244914275143753, 0.21880741378538426, 0.014465838241677029, 0.6616740073584818, 0.0243550801263472]\n",
      "Image number  44  done\n",
      "Time taken to run Image  44  is  (hh:mm:ss.ms) 0:00:09.047390\n",
      "[0.4921314811226673, 0.11211996115227506, 0.05933629261974546, 0.026133697107130156, 0.3040366353156863, 0.006241932682495756]\n",
      "Image number  45  done\n",
      "Time taken to run Image  45  is  (hh:mm:ss.ms) 0:00:09.025188\n",
      "[0.8772821570099525, 0.06560100691702118, 0.021515672891684705, 0.0023894557373501414, 0.023942630032298705, 0.009269077411692802]\n",
      "Image number  46  done\n",
      "Time taken to run Image  46  is  (hh:mm:ss.ms) 0:00:08.992062\n",
      "[0.3274799419529129, 0.002030152149559137, 0.5524733378227406, 0.04132630266159542, 0.058583104664430646, 0.018107160748761217]\n",
      "Image number  47  done\n",
      "Time taken to run Image  47  is  (hh:mm:ss.ms) 0:00:09.036433\n",
      "[0.1100428028000302, 0.00511946556883306, 0.0172579993928993, 0.3394335148531724, 0.399971610766577, 0.1281746066184879]\n",
      "Image number  48  done\n",
      "Time taken to run Image  48  is  (hh:mm:ss.ms) 0:00:09.007324\n",
      "[0.20110338187977386, 0.014824128193589173, 0.3072952997814794, 0.0036653069545591866, 0.47266514184800346, 0.0004467413425948655]\n",
      "Image number  49  done\n",
      "Time taken to run Image  49  is  (hh:mm:ss.ms) 0:00:09.058307\n",
      "[0.36196508993727705, 0.015471510122071614, 0.03975022910058094, 0.02207593085094309, 0.5341666639059894, 0.026570576083137912]\n",
      "Image number  0  done\n",
      "Time taken to run Image  0  is  (hh:mm:ss.ms) 0:00:08.968672\n",
      "[0.9573391248521009, 0.010019682411212908, 0.012455831797121912, 0.004473389116937188, 0.013337320455562882, 0.0023746513670643422]\n",
      "Image number  1  done\n",
      "Time taken to run Image  1  is  (hh:mm:ss.ms) 0:00:09.003807\n",
      "[0.032543132461594154, 0.0011636085938749687, 0.8665236553574925, 0.040296701652182035, 0.05578333612628747, 0.0036895658085688444]\n",
      "Image number  2  done\n",
      "Time taken to run Image  2  is  (hh:mm:ss.ms) 0:00:09.049331\n",
      "[0.2775641297571787, 1.8630425211948536e-13, 0.07357715677886212, 0.0006879579036276823, 0.6481697212650988, 1.0342950464076268e-06]\n",
      "Image number  3  done\n",
      "Time taken to run Image  3  is  (hh:mm:ss.ms) 0:00:08.985099\n",
      "[0.2641734372917091, 0.7300727076230197, 7.580848512340079e-12, 2.1664920981985725e-11, 1.6775075553443111e-09, 0.005753853378517798]\n",
      "Image number  4  done\n",
      "Time taken to run Image  4  is  (hh:mm:ss.ms) 0:00:09.156486\n",
      "[0.003859316025566837, 7.194450348198301e-08, 3.339504760870266e-07, 0.00073358286922648, 0.9953997416041037, 6.953606123448012e-06]\n",
      "Image number  5  done\n",
      "Time taken to run Image  5  is  (hh:mm:ss.ms) 0:00:09.193817\n",
      "[0.021032668431354585, 9.405449374689635e-09, 0.013440777160994469, 2.146079459250199e-11, 0.9655265449664938, 1.4246899091124639e-11]\n",
      "Image number  6  done\n",
      "Time taken to run Image  6  is  (hh:mm:ss.ms) 0:00:09.228284\n",
      "[0.7030746186737792, 0.011974396141564592, 0.2849429862933086, 7.991506164396538e-06, 7.365785395686383e-09, 1.93981166771343e-11]\n",
      "Image number  7  done\n",
      "Time taken to run Image  7  is  (hh:mm:ss.ms) 0:00:08.987471\n",
      "[0.0018706426971393086, 1.7775756639834358e-11, 0.9981253831037802, 5.330684505848455e-12, 3.974175971177225e-06, 2.942300170594644e-15]\n",
      "Image number  8  done\n",
      "Time taken to run Image  8  is  (hh:mm:ss.ms) 0:00:09.056780\n",
      "[0.17219444134359935, 0.22610767767996737, 0.5388109826482909, 0.0030046396558449655, 0.04963777746221015, 0.010244481210087246]\n",
      "Image number  9  done\n",
      "Time taken to run Image  9  is  (hh:mm:ss.ms) 0:00:09.069707\n",
      "[0.1781966585915371, 0.8214140807930065, 2.4844811722418022e-05, 7.053444253311126e-12, 0.0003643889434335771, 2.6853246906232243e-08]\n",
      "Image number  10  done\n",
      "Time taken to run Image  10  is  (hh:mm:ss.ms) 0:00:09.072421\n",
      "[0.00011469244532293224, 0.8726984481936172, 0.0076743183083929625, 1.996654869920739e-05, 0.119492574500318, 3.649707178274627e-12]\n",
      "Image number  11  done\n",
      "Time taken to run Image  11  is  (hh:mm:ss.ms) 0:00:09.048553\n",
      "[0.2440271139773589, 7.433962692301182e-09, 3.6813371026361017e-07, 5.4227324353342736e-08, 0.755972317478442, 1.387492018979059e-07]\n",
      "Image number  12  done\n",
      "Time taken to run Image  12  is  (hh:mm:ss.ms) 0:00:09.036865\n",
      "[0.004256632615886967, 9.10424226448011e-06, 0.9956722159956303, 3.3105866555773184e-07, 6.171607410460673e-05, 1.3447972267787534e-11]\n",
      "Image number  13  done\n",
      "Time taken to run Image  13  is  (hh:mm:ss.ms) 0:00:09.100409\n",
      "[0.013205841226388713, 0.004134253531983095, 0.014646234685011283, 0.9676211072134778, 2.040183805317365e-12, 0.0003925633410988184]\n",
      "Image number  14  done\n",
      "Time taken to run Image  14  is  (hh:mm:ss.ms) 0:00:09.057589\n",
      "[0.9954617793207415, 2.944295489309932e-08, 0.004538191222336812, 9.894199919506883e-13, 1.2973935027058062e-11, 3.375664060480436e-15]\n",
      "Image number  15  done\n",
      "Time taken to run Image  15  is  (hh:mm:ss.ms) 0:00:09.138668\n",
      "[0.24873541805609092, 0.005343919221894288, 0.6331343727602071, 0.0036176871310969953, 8.965106615826738e-05, 0.1090789517645525]\n",
      "Image number  16  done\n",
      "Time taken to run Image  16  is  (hh:mm:ss.ms) 0:00:09.095717\n",
      "[1.6319574985055822e-05, 3.9980199929841947e-07, 0.4148751358298618, 0.006492505668501658, 0.5786156374041176, 1.7205345585844813e-09]\n",
      "Image number  17  done\n",
      "Time taken to run Image  17  is  (hh:mm:ss.ms) 0:00:09.063748\n",
      "[0.9999853462189401, 1.555951036776631e-07, 1.4496824081666752e-05, 2.641349689026705e-16, 1.3617910539241566e-09, 8.323706272512331e-14]\n",
      "Image number  18  done\n",
      "Time taken to run Image  18  is  (hh:mm:ss.ms) 0:00:09.075580\n",
      "[0.21090359128340339, 7.319996740621125e-15, 2.942812784519389e-08, 0.00012118000643508264, 0.004933597580339365, 0.784041601701687]\n",
      "Image number  19  done\n",
      "Time taken to run Image  19  is  (hh:mm:ss.ms) 0:00:09.158916\n",
      "[1.5157104937348813e-07, 9.991385370187321e-12, 9.566835999072862e-08, 4.990719042998392e-07, 0.9999986644974005, 5.891812943444014e-07]\n",
      "Image number  20  done\n",
      "Time taken to run Image  20  is  (hh:mm:ss.ms) 0:00:09.117983\n",
      "[0.00031439825020118054, 0.00026987023506966584, 0.9993949854825924, 1.4649094857173234e-07, 2.059911001579879e-05, 4.3117236825275123e-10]\n",
      "Image number  21  done\n",
      "Time taken to run Image  21  is  (hh:mm:ss.ms) 0:00:09.124453\n",
      "[0.9979438996848902, 1.5348872113638746e-14, 0.001981990522164638, 7.388360296551302e-05, 2.2618995792944437e-07, 6.3155906946137e-15]\n",
      "Image number  22  done\n",
      "Time taken to run Image  22  is  (hh:mm:ss.ms) 0:00:09.158199\n",
      "[0.8772233739844507, 1.2878797470340057e-08, 0.039333876452932445, 7.146132726470816e-08, 0.08344266522114142, 1.3506073766865649e-12]\n",
      "Image number  23  done\n",
      "Time taken to run Image  23  is  (hh:mm:ss.ms) 0:00:09.215279\n",
      "[1.4114932334006294e-05, 0.0010243777756960366, 0.30627790122642234, 1.5439832329696406e-17, 0.6926836060655354, 1.2406851875151459e-14]\n",
      "Image number  24  done\n",
      "Time taken to run Image  24  is  (hh:mm:ss.ms) 0:00:09.056722\n",
      "[0.36503533777771224, 0.00019607463162761425, 1.6512169678255647e-06, 0.6346257412193856, 0.0001411947989568733, 3.553497696119264e-10]\n",
      "Image number  25  done\n",
      "Time taken to run Image  25  is  (hh:mm:ss.ms) 0:00:09.173481\n",
      "[0.9999999995188333, 4.787216798200517e-10, 1.0025747572416654e-13, 1.7531980434165815e-13, 2.1693764247291122e-12, 2.956870975988236e-18]\n",
      "Image number  26  done\n",
      "Time taken to run Image  26  is  (hh:mm:ss.ms) 0:00:09.078408\n",
      "[0.000680742596376137, 1.401880966746921e-13, 1.8062091023510972e-06, 1.4081498047419195e-06, 0.9993160427716059, 2.7297054313740597e-10]\n",
      "Image number  27  done\n",
      "Time taken to run Image  27  is  (hh:mm:ss.ms) 0:00:09.243403\n",
      "[2.3540269132995445e-13, 2.1584893674628175e-16, 8.562565609717558e-13, 3.01100058860754e-07, 0.9999996988983353, 5.141132862014715e-13]\n",
      "Image number  28  done\n",
      "Time taken to run Image  28  is  (hh:mm:ss.ms) 0:00:09.179551\n",
      "[2.3679966158529925e-05, 0.00011804696715499024, 0.9997383476541752, 3.161416080048188e-11, 0.00011992536628660578, 1.4610580018478078e-11]\n",
      "Image number  29  done\n",
      "Time taken to run Image  29  is  (hh:mm:ss.ms) 0:00:09.119328\n",
      "[0.9908751737876733, 5.1586556749553365e-05, 6.909640380294412e-10, 0.0005933732209437547, 0.008479189350565361, 6.763931037551634e-07]\n",
      "Image number  30  done\n",
      "Time taken to run Image  30  is  (hh:mm:ss.ms) 0:00:09.158948\n",
      "[3.836314721059517e-05, 2.1160489725814306e-09, 6.116251918319329e-06, 3.0040268782280342e-06, 0.9999517611599776, 7.532979662843251e-07]\n",
      "Image number  31  done\n",
      "Time taken to run Image  31  is  (hh:mm:ss.ms) 0:00:09.139812\n",
      "[0.010977999795897152, 0.5022402423024648, 1.9967955081637098e-08, 2.8759517489232155e-07, 0.48678145033750203, 1.0061137752454576e-12]\n",
      "Image number  32  done\n",
      "Time taken to run Image  32  is  (hh:mm:ss.ms) 0:00:09.173756\n",
      "[8.80352223845606e-11, 3.14233572495977e-14, 3.3012704286018067e-16, 1.3271720093219146e-21, 0.9999999999119329, 4.373591315101461e-23]\n",
      "Image number  33  done\n",
      "Time taken to run Image  33  is  (hh:mm:ss.ms) 0:00:09.109616\n",
      "[0.9999936941323413, 9.977292818324576e-07, 5.308131851374644e-06, 2.660726294641424e-12, 3.864823939357324e-12, 5.42621820038602e-18]\n",
      "Image number  34  done\n",
      "Time taken to run Image  34  is  (hh:mm:ss.ms) 0:00:09.179502\n",
      "[2.026097356833679e-05, 9.291321033378659e-15, 1.0956967022142013e-06, 6.872827362518528e-15, 0.9999786433289355, 7.777768609691652e-13]\n",
      "Image number  35  done\n",
      "Time taken to run Image  35  is  (hh:mm:ss.ms) 0:00:09.208928\n",
      "[0.9999956717731547, 4.3276858410778905e-06, 2.553424712687878e-10, 3.671958716747985e-12, 3.178828934728319e-11, 2.502014676816409e-10]\n",
      "Image number  36  done\n",
      "Time taken to run Image  36  is  (hh:mm:ss.ms) 0:00:09.152995\n",
      "[0.93166048876715, 1.7011487110916987e-12, 0.06406930368608758, 4.694453442903761e-08, 0.004270160312809153, 2.8771761563498705e-10]\n",
      "Image number  37  done\n",
      "Time taken to run Image  37  is  (hh:mm:ss.ms) 0:00:09.119948\n",
      "[0.9169575112070334, 0.06853478163756858, 0.0001915667755907126, 9.383028677836928e-06, 0.014306395564793153, 3.6178633627028843e-07]\n",
      "Image number  38  done\n",
      "Time taken to run Image  38  is  (hh:mm:ss.ms) 0:00:09.192307\n",
      "[0.00020182841557357388, 3.1300891761539588e-09, 2.5746435845057134e-06, 0.9927186854129743, 0.007076907704874565, 6.929040390770866e-10]\n",
      "Image number  39  done\n",
      "Time taken to run Image  39  is  (hh:mm:ss.ms) 0:00:09.263382\n",
      "[0.999970456909761, 2.948045169113455e-05, 6.548098870194899e-12, 6.243560726048306e-08, 1.0956307773023566e-10, 8.682942168737395e-11]\n",
      "Image number  40  done\n",
      "Time taken to run Image  40  is  (hh:mm:ss.ms) 0:00:09.422635\n",
      "[0.9999899472917233, 1.3488941506579081e-11, 5.050299433763187e-07, 3.2643423645227164e-09, 9.45713317983515e-06, 8.726732225655365e-08]\n",
      "Image number  41  done\n",
      "Time taken to run Image  41  is  (hh:mm:ss.ms) 0:00:09.164896\n",
      "[0.04907705744659131, 0.0007211672898753904, 0.0013891352088249863, 2.3589894144395846e-07, 0.9485345862596609, 0.00027781789610589606]\n",
      "Image number  42  done\n",
      "Time taken to run Image  42  is  (hh:mm:ss.ms) 0:00:09.200623\n",
      "[2.2916884421003142e-07, 7.239541818997235e-14, 1.188493963594348e-09, 2.157301069994696e-07, 0.9999995539124822, 9.883946849291077e-17]\n",
      "Image number  43  done\n",
      "Time taken to run Image  43  is  (hh:mm:ss.ms) 0:00:09.188322\n",
      "[5.2654196834502135e-05, 6.075447895777037e-17, 0.005644024927297539, 1.7312006783996724e-08, 0.9943031060148751, 1.9754898597630904e-07]\n",
      "Image number  44  done\n",
      "Time taken to run Image  44  is  (hh:mm:ss.ms) 0:00:09.209888\n",
      "[0.9282984564758311, 0.0003507863435986153, 1.1819681857372829e-05, 1.4970283272879392e-07, 0.0713387877231197, 7.276037945966588e-11]\n",
      "Image number  45  done\n",
      "Time taken to run Image  45  is  (hh:mm:ss.ms) 0:00:09.185900\n",
      "[0.9999999963080843, 3.6890935713507497e-09, 8.742078465740366e-13, 6.233773588652784e-20, 1.9461648722883956e-12, 1.5964465753356796e-15]\n",
      "Image number  46  done\n",
      "Time taken to run Image  46  is  (hh:mm:ss.ms) 0:00:09.135317\n",
      "[0.09922548409284228, 4.8461756397673534e-11, 0.9006881204410427, 1.6035788852258626e-05, 6.986580933036291e-05, 4.938194704423477e-07]\n",
      "Image number  47  done\n",
      "Time taken to run Image  47  is  (hh:mm:ss.ms) 0:00:09.164507\n",
      "[0.0004777851988738469, 1.3495604536754547e-11, 1.3198389699329862e-08, 0.28249292658899106, 0.7158954358485755, 0.0011338391516741602]\n",
      "Image number  48  done\n",
      "Time taken to run Image  48  is  (hh:mm:ss.ms) 0:00:09.261311\n",
      "[0.017035345758990406, 1.0693368280844092e-07, 0.1194635001098509, 1.7431456447861243e-10, 0.8635010470231502, 1.1024584854316743e-14]\n",
      "Image number  49  done\n",
      "Time taken to run Image  49  is  (hh:mm:ss.ms) 0:00:09.245591\n",
      "[0.14068538355427407, 6.04991995429385e-08, 4.86810277262e-06, 3.159722794427803e-07, 0.8593086238887314, 7.479827429424861e-07]\n"
     ]
    }
   ],
   "source": [
    "model.network , error = train(model.network,output,bias,learning_rate,model.it,epoch,50)"
   ]
  },
  {
   "cell_type": "code",
   "execution_count": 45,
   "metadata": {
    "id": "KR5Fi8eRyuyC"
   },
   "outputs": [],
   "source": []
  },
  {
   "cell_type": "code",
   "execution_count": 117,
   "metadata": {
    "colab": {
     "base_uri": "https://localhost:8080/"
    },
    "id": "17YvoHV0yu1F",
    "outputId": "bfd88ce7-5b48-4447-8c26-b05211ebb1a2"
   },
   "outputs": [
    {
     "data": {
      "text/plain": [
       "[1.944567692753698e-17,\n",
       " 2.1606377203714643e-25,\n",
       " 1.0,\n",
       " 1.743415668256082e-32,\n",
       " 1.7910081500415787e-20,\n",
       " 2.866135171847541e-20]"
      ]
     },
     "execution_count": 117,
     "metadata": {
      "tags": []
     },
     "output_type": "execute_result"
    }
   ],
   "source": [
    "predict(model.network,a[55],bias,model.it)"
   ]
  },
  {
   "cell_type": "code",
   "execution_count": 118,
   "metadata": {
    "colab": {
     "base_uri": "https://localhost:8080/"
    },
    "id": "QyNrLYGVyu45",
    "outputId": "ed224c90-c0c7-41b3-e8a3-b42bacf9d8a9"
   },
   "outputs": [
    {
     "data": {
      "text/plain": [
       "[1.0968800766791255e-15,\n",
       " 1.7851592148605872e-17,\n",
       " 0.9999999999999983,\n",
       " 5.468159305928717e-16,\n",
       " 1.052223744072945e-18,\n",
       " 6.90942821183285e-33]"
      ]
     },
     "execution_count": 118,
     "metadata": {
      "tags": []
     },
     "output_type": "execute_result"
    }
   ],
   "source": [
    "predict(model.network,b[55],bias,model.it)"
   ]
  },
  {
   "cell_type": "code",
   "execution_count": 120,
   "metadata": {
    "colab": {
     "base_uri": "https://localhost:8080/"
    },
    "id": "_GD0DP-hyu69",
    "outputId": "5d149af5-3ae9-4568-b58f-0fdbd78b84dd"
   },
   "outputs": [
    {
     "data": {
      "text/plain": [
       "[0.011260860369035994,\n",
       " 0.9868568594645517,\n",
       " 0.0018637571633371645,\n",
       " 1.3441138646687522e-05,\n",
       " 4.939021705342326e-06,\n",
       " 1.428427230429533e-07]"
      ]
     },
     "execution_count": 120,
     "metadata": {
      "tags": []
     },
     "output_type": "execute_result"
    }
   ],
   "source": [
    "predict(model.network,d[48],bias,model.it)"
   ]
  },
  {
   "cell_type": "code",
   "execution_count": 121,
   "metadata": {
    "colab": {
     "base_uri": "https://localhost:8080/"
    },
    "id": "1CvKlPoLyu9i",
    "outputId": "a776dfa4-75d2-4bff-cb12-e094c5436451"
   },
   "outputs": [
    {
     "data": {
      "text/plain": [
       "[0.017035345758999534,\n",
       " 1.069336828084511e-07,\n",
       " 0.11946350010994375,\n",
       " 1.7431456447862654e-10,\n",
       " 0.8635010470230483,\n",
       " 1.1024584854324685e-14]"
      ]
     },
     "execution_count": 121,
     "metadata": {
      "tags": []
     },
     "output_type": "execute_result"
    }
   ],
   "source": [
    "predict(model.network,f[48],bias,model.it)"
   ]
  },
  {
   "cell_type": "code",
   "execution_count": 124,
   "metadata": {
    "colab": {
     "base_uri": "https://localhost:8080/"
    },
    "id": "4YkMD9beyvAE",
    "outputId": "0c15b2c1-304c-446f-b22e-d6ac50c8d4f6"
   },
   "outputs": [
    {
     "data": {
      "text/plain": [
       "[0.9999996361666154,\n",
       " 3.3294682850831655e-07,\n",
       " 1.2416953727517308e-08,\n",
       " 1.6485741266769486e-12,\n",
       " 1.846260132707296e-08,\n",
       " 5.352413550847635e-12]"
      ]
     },
     "execution_count": 124,
     "metadata": {
      "tags": []
     },
     "output_type": "execute_result"
    }
   ],
   "source": [
    "predict(model.network,c[25],bias,model.it)"
   ]
  },
  {
   "cell_type": "code",
   "execution_count": 45,
   "metadata": {
    "id": "JdWMZodWyvCN"
   },
   "outputs": [],
   "source": []
  },
  {
   "cell_type": "code",
   "execution_count": 98,
   "metadata": {
    "colab": {
     "base_uri": "https://localhost:8080/"
    },
    "id": "36P40zYoyvFl",
    "outputId": "3e5a7fa5-603a-4fef-c9f1-6138e523fc2f"
   },
   "outputs": [
    {
     "data": {
      "text/plain": [
       "3.637970947608805e+42"
      ]
     },
     "execution_count": 98,
     "metadata": {
      "tags": []
     },
     "output_type": "execute_result"
    }
   ],
   "source": [
    "np.exp(98)"
   ]
  },
  {
   "cell_type": "code",
   "execution_count": null,
   "metadata": {
    "id": "cNPIpd3K3Ubo"
   },
   "outputs": [],
   "source": []
  }
 ],
 "metadata": {
  "colab": {
   "collapsed_sections": [],
   "name": "Trial1.ipynb",
   "provenance": []
  },
  "kernelspec": {
   "display_name": "Python 3",
   "language": "python",
   "name": "python3"
  },
  "language_info": {
   "codemirror_mode": {
    "name": "ipython",
    "version": 3
   },
   "file_extension": ".py",
   "mimetype": "text/x-python",
   "name": "python",
   "nbconvert_exporter": "python",
   "pygments_lexer": "ipython3",
   "version": "3.8.3"
  }
 },
 "nbformat": 4,
 "nbformat_minor": 1
}
